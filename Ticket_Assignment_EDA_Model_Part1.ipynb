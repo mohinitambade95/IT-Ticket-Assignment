{
  "nbformat": 4,
  "nbformat_minor": 0,
  "metadata": {
    "colab": {
      "name": "Ticket_Assignment_EDA_Model_Part1.ipynb",
      "provenance": [],
      "collapsed_sections": [],
      "toc_visible": true
    },
    "kernelspec": {
      "display_name": "Python 3",
      "name": "python3"
    },
    "language_info": {
      "name": "python"
    }
  },
  "cells": [
    {
      "cell_type": "code",
      "metadata": {
        "id": "fxCewHe4kUuX",
        "colab": {
          "base_uri": "https://localhost:8080/"
        },
        "outputId": "20eb7043-2d89-4a4e-ed13-9d629b4aeef9"
      },
      "source": [
        "import pandas as pd\n",
        "import numpy as np\n",
        "import seaborn as sns\n",
        "import pickle\n",
        "import sklearn\n",
        "import re\n",
        "import matplotlib.pyplot as plt\n",
        "from nltk.corpus import stopwords\n",
        "from nltk.stem import WordNetLemmatizer\n",
        "from sklearn.feature_extraction.text import TfidfVectorizer\n",
        "from sklearn.feature_extraction.text import CountVectorizer\n",
        "from sklearn.model_selection import train_test_split\n",
        "from sklearn.metrics.classification import accuracy_score, log_loss,confusion_matrix\n",
        "from sklearn import metrics\n",
        "from sklearn.linear_model import LogisticRegression\n",
        "from sklearn.svm import LinearSVC\n",
        "from sklearn.ensemble import RandomForestClassifier\n",
        "from sklearn.neural_network import MLPClassifier\n",
        "from sklearn.pipeline import Pipeline\n",
        "from sklearn.model_selection import GridSearchCV\n",
        "from xgboost import XGBClassifier\n"
      ],
      "execution_count": 1,
      "outputs": [
        {
          "output_type": "stream",
          "text": [
            "/usr/local/lib/python3.7/dist-packages/sklearn/utils/deprecation.py:144: FutureWarning: The sklearn.metrics.classification module is  deprecated in version 0.22 and will be removed in version 0.24. The corresponding classes / functions should instead be imported from sklearn.metrics. Anything that cannot be imported from sklearn.metrics is now part of the private API.\n",
            "  warnings.warn(message, FutureWarning)\n"
          ],
          "name": "stderr"
        }
      ]
    },
    {
      "cell_type": "code",
      "metadata": {
        "colab": {
          "base_uri": "https://localhost:8080/"
        },
        "id": "75v3Ft_pE6uH",
        "outputId": "e931b9e6-4c80-470d-d97a-4ea7ada31d03"
      },
      "source": [
        "import nltk\n",
        "nltk.download('stopwords')\n",
        "nltk.download('wordnet')\n",
        "nltk.download('punkt')"
      ],
      "execution_count": 2,
      "outputs": [
        {
          "output_type": "stream",
          "text": [
            "[nltk_data] Downloading package stopwords to /root/nltk_data...\n",
            "[nltk_data]   Unzipping corpora/stopwords.zip.\n",
            "[nltk_data] Downloading package wordnet to /root/nltk_data...\n",
            "[nltk_data]   Unzipping corpora/wordnet.zip.\n",
            "[nltk_data] Downloading package punkt to /root/nltk_data...\n",
            "[nltk_data]   Unzipping tokenizers/punkt.zip.\n"
          ],
          "name": "stdout"
        },
        {
          "output_type": "execute_result",
          "data": {
            "text/plain": [
              "True"
            ]
          },
          "metadata": {
            "tags": []
          },
          "execution_count": 2
        }
      ]
    },
    {
      "cell_type": "markdown",
      "metadata": {
        "id": "BAezitaj61EV"
      },
      "source": [
        "### Load data"
      ]
    },
    {
      "cell_type": "code",
      "metadata": {
        "id": "yxOwy6TSnPwr"
      },
      "source": [
        "# Load the data from excel\n",
        "data = pd.read_excel(\"/content/Automatic Ticket Assignment.xlsx\", 'Sheet1')"
      ],
      "execution_count": 4,
      "outputs": []
    },
    {
      "cell_type": "code",
      "metadata": {
        "colab": {
          "base_uri": "https://localhost:8080/",
          "height": 35
        },
        "id": "X6KgBXvEgssh",
        "outputId": "56f06b5f-d8d5-4178-b9ca-3cdd9e3d1b1a"
      },
      "source": [
        "# read one description\n",
        "data['Description'][94]"
      ],
      "execution_count": 5,
      "outputs": [
        {
          "output_type": "execute_result",
          "data": {
            "application/vnd.google.colaboratory.intrinsic+json": {
              "type": "string"
            },
            "text/plain": [
              "'received from: monitoring_tool@company.com\\r\\n\\r\\njob Job_717 failed in job_scheduler at: 10/29/2016 18:11:00'"
            ]
          },
          "metadata": {
            "tags": []
          },
          "execution_count": 5
        }
      ]
    },
    {
      "cell_type": "code",
      "metadata": {
        "colab": {
          "base_uri": "https://localhost:8080/",
          "height": 195
        },
        "id": "V6YgaVssno3k",
        "outputId": "af9409eb-63c2-4f2b-80c1-74b81ba35d29"
      },
      "source": [
        "data.head()"
      ],
      "execution_count": 6,
      "outputs": [
        {
          "output_type": "execute_result",
          "data": {
            "text/html": [
              "<div>\n",
              "<style scoped>\n",
              "    .dataframe tbody tr th:only-of-type {\n",
              "        vertical-align: middle;\n",
              "    }\n",
              "\n",
              "    .dataframe tbody tr th {\n",
              "        vertical-align: top;\n",
              "    }\n",
              "\n",
              "    .dataframe thead th {\n",
              "        text-align: right;\n",
              "    }\n",
              "</style>\n",
              "<table border=\"1\" class=\"dataframe\">\n",
              "  <thead>\n",
              "    <tr style=\"text-align: right;\">\n",
              "      <th></th>\n",
              "      <th>Short description</th>\n",
              "      <th>Description</th>\n",
              "      <th>Caller</th>\n",
              "      <th>Assignment group</th>\n",
              "    </tr>\n",
              "  </thead>\n",
              "  <tbody>\n",
              "    <tr>\n",
              "      <th>0</th>\n",
              "      <td>login issue</td>\n",
              "      <td>-verified user details.(employee# &amp; manager na...</td>\n",
              "      <td>spxjnwir pjlcoqds</td>\n",
              "      <td>GRP_0</td>\n",
              "    </tr>\n",
              "    <tr>\n",
              "      <th>1</th>\n",
              "      <td>outlook</td>\n",
              "      <td>\\r\\n\\r\\nreceived from: hmjdrvpb.komuaywn@gmail...</td>\n",
              "      <td>hmjdrvpb komuaywn</td>\n",
              "      <td>GRP_0</td>\n",
              "    </tr>\n",
              "    <tr>\n",
              "      <th>2</th>\n",
              "      <td>cant log in to vpn</td>\n",
              "      <td>\\r\\n\\r\\nreceived from: eylqgodm.ybqkwiam@gmail...</td>\n",
              "      <td>eylqgodm ybqkwiam</td>\n",
              "      <td>GRP_0</td>\n",
              "    </tr>\n",
              "    <tr>\n",
              "      <th>3</th>\n",
              "      <td>unable to access hr_tool page</td>\n",
              "      <td>unable to access hr_tool page</td>\n",
              "      <td>xbkucsvz gcpydteq</td>\n",
              "      <td>GRP_0</td>\n",
              "    </tr>\n",
              "    <tr>\n",
              "      <th>4</th>\n",
              "      <td>skype error</td>\n",
              "      <td>skype error</td>\n",
              "      <td>owlgqjme qhcozdfx</td>\n",
              "      <td>GRP_0</td>\n",
              "    </tr>\n",
              "  </tbody>\n",
              "</table>\n",
              "</div>"
            ],
            "text/plain": [
              "               Short description  ... Assignment group\n",
              "0                    login issue  ...            GRP_0\n",
              "1                        outlook  ...            GRP_0\n",
              "2             cant log in to vpn  ...            GRP_0\n",
              "3  unable to access hr_tool page  ...            GRP_0\n",
              "4                   skype error   ...            GRP_0\n",
              "\n",
              "[5 rows x 4 columns]"
            ]
          },
          "metadata": {
            "tags": []
          },
          "execution_count": 6
        }
      ]
    },
    {
      "cell_type": "code",
      "metadata": {
        "colab": {
          "base_uri": "https://localhost:8080/"
        },
        "id": "aYgY0Dv1nsQ6",
        "outputId": "56abfba7-c569-4d53-d30c-e9b391e7afa1"
      },
      "source": [
        "data.columns.values"
      ],
      "execution_count": 7,
      "outputs": [
        {
          "output_type": "execute_result",
          "data": {
            "text/plain": [
              "array(['Short description', 'Description', 'Caller', 'Assignment group'],\n",
              "      dtype=object)"
            ]
          },
          "metadata": {
            "tags": []
          },
          "execution_count": 7
        }
      ]
    },
    {
      "cell_type": "markdown",
      "metadata": {
        "id": "C2yL8gyRpWFW"
      },
      "source": [
        "There are four features.\n",
        "1. Short description - It is like the title of ticket.\n",
        "2. Description - Detailed description of the issue for which ticket is raised.\n",
        "3. Caller - The person who has raised the ticket\n",
        "4. Assignment Group - The function group to the the ticket is assigned. It is target variable."
      ]
    },
    {
      "cell_type": "code",
      "metadata": {
        "colab": {
          "base_uri": "https://localhost:8080/"
        },
        "id": "6UHPeCUv4qah",
        "outputId": "cda8879a-81d9-4e08-b875-5f927d12223a"
      },
      "source": [
        "data.shape"
      ],
      "execution_count": 9,
      "outputs": [
        {
          "output_type": "execute_result",
          "data": {
            "text/plain": [
              "(8500, 4)"
            ]
          },
          "metadata": {
            "tags": []
          },
          "execution_count": 9
        }
      ]
    },
    {
      "cell_type": "markdown",
      "metadata": {
        "id": "wZnEoWAH66UQ"
      },
      "source": [
        "### Data description"
      ]
    },
    {
      "cell_type": "code",
      "metadata": {
        "colab": {
          "base_uri": "https://localhost:8080/",
          "height": 166
        },
        "id": "LeAEXm1Gn0lC",
        "outputId": "0de1fc27-50d5-4319-98bb-a5f0be78a50a"
      },
      "source": [
        "data.describe()"
      ],
      "execution_count": 10,
      "outputs": [
        {
          "output_type": "execute_result",
          "data": {
            "text/html": [
              "<div>\n",
              "<style scoped>\n",
              "    .dataframe tbody tr th:only-of-type {\n",
              "        vertical-align: middle;\n",
              "    }\n",
              "\n",
              "    .dataframe tbody tr th {\n",
              "        vertical-align: top;\n",
              "    }\n",
              "\n",
              "    .dataframe thead th {\n",
              "        text-align: right;\n",
              "    }\n",
              "</style>\n",
              "<table border=\"1\" class=\"dataframe\">\n",
              "  <thead>\n",
              "    <tr style=\"text-align: right;\">\n",
              "      <th></th>\n",
              "      <th>Short description</th>\n",
              "      <th>Description</th>\n",
              "      <th>Caller</th>\n",
              "      <th>Assignment group</th>\n",
              "    </tr>\n",
              "  </thead>\n",
              "  <tbody>\n",
              "    <tr>\n",
              "      <th>count</th>\n",
              "      <td>8492</td>\n",
              "      <td>8499</td>\n",
              "      <td>8500</td>\n",
              "      <td>8500</td>\n",
              "    </tr>\n",
              "    <tr>\n",
              "      <th>unique</th>\n",
              "      <td>7481</td>\n",
              "      <td>7817</td>\n",
              "      <td>2950</td>\n",
              "      <td>74</td>\n",
              "    </tr>\n",
              "    <tr>\n",
              "      <th>top</th>\n",
              "      <td>password reset</td>\n",
              "      <td>the</td>\n",
              "      <td>bpctwhsn kzqsbmtp</td>\n",
              "      <td>GRP_0</td>\n",
              "    </tr>\n",
              "    <tr>\n",
              "      <th>freq</th>\n",
              "      <td>38</td>\n",
              "      <td>56</td>\n",
              "      <td>810</td>\n",
              "      <td>3976</td>\n",
              "    </tr>\n",
              "  </tbody>\n",
              "</table>\n",
              "</div>"
            ],
            "text/plain": [
              "       Short description Description             Caller Assignment group\n",
              "count               8492        8499               8500             8500\n",
              "unique              7481        7817               2950               74\n",
              "top       password reset         the  bpctwhsn kzqsbmtp            GRP_0\n",
              "freq                  38          56                810             3976"
            ]
          },
          "metadata": {
            "tags": []
          },
          "execution_count": 10
        }
      ]
    },
    {
      "cell_type": "markdown",
      "metadata": {
        "id": "vXs7H0M04mdJ"
      },
      "source": [
        "1. Dataset has 8500 rows and 4 columns.\n",
        "2. Text columns Short decription and description has some null values.\n",
        "3. There 74 unique groups to which tickets are assigned.\n",
        "4. Top most issue for which ticket is raised is regarding password reset.\n",
        "5. Caller bpctwhsn kzqsbmtp has raised most of the tickets.\n",
        "6. Most of he tickets are assigned to GRP_0"
      ]
    },
    {
      "cell_type": "markdown",
      "metadata": {
        "id": "KFk-N1NbNxy0"
      },
      "source": [
        "### Remove Null values"
      ]
    },
    {
      "cell_type": "code",
      "metadata": {
        "colab": {
          "base_uri": "https://localhost:8080/"
        },
        "id": "6Rg-spVfrpqw",
        "outputId": "77510629-4986-4b48-e378-7dec16555933"
      },
      "source": [
        "data.isnull().any()"
      ],
      "execution_count": 11,
      "outputs": [
        {
          "output_type": "execute_result",
          "data": {
            "text/plain": [
              "Short description     True\n",
              "Description           True\n",
              "Caller               False\n",
              "Assignment group     False\n",
              "dtype: bool"
            ]
          },
          "metadata": {
            "tags": []
          },
          "execution_count": 11
        }
      ]
    },
    {
      "cell_type": "code",
      "metadata": {
        "id": "ZPlSGV0Sruvy"
      },
      "source": [
        "data = data.dropna(axis=0)"
      ],
      "execution_count": 12,
      "outputs": []
    },
    {
      "cell_type": "code",
      "metadata": {
        "colab": {
          "base_uri": "https://localhost:8080/"
        },
        "id": "9atRFg4Qr132",
        "outputId": "83c3e5b8-582b-4978-fe42-b2ac5c77825d"
      },
      "source": [
        "data.shape"
      ],
      "execution_count": 13,
      "outputs": [
        {
          "output_type": "execute_result",
          "data": {
            "text/plain": [
              "(8491, 4)"
            ]
          },
          "metadata": {
            "tags": []
          },
          "execution_count": 13
        }
      ]
    },
    {
      "cell_type": "markdown",
      "metadata": {
        "id": "4mfkJUDa7RjL"
      },
      "source": [
        "### Analyzing target variable"
      ]
    },
    {
      "cell_type": "code",
      "metadata": {
        "colab": {
          "base_uri": "https://localhost:8080/"
        },
        "id": "0BDOL1lh7akw",
        "outputId": "88fd23e2-b502-4e3f-a083-8e95993dc1f2"
      },
      "source": [
        "target_class_count = data['Assignment group'].value_counts()\n",
        "target_class_count.describe()"
      ],
      "execution_count": 14,
      "outputs": [
        {
          "output_type": "execute_result",
          "data": {
            "text/plain": [
              "count      74.000000\n",
              "mean      114.743243\n",
              "std       464.840614\n",
              "min         1.000000\n",
              "25%         5.250000\n",
              "50%        26.000000\n",
              "75%        84.000000\n",
              "max      3968.000000\n",
              "Name: Assignment group, dtype: float64"
            ]
          },
          "metadata": {
            "tags": []
          },
          "execution_count": 14
        }
      ]
    },
    {
      "cell_type": "markdown",
      "metadata": {
        "id": "oQ8bGC1n8eIS"
      },
      "source": [
        "1. GRP_0 has 3968 tickets assigned to it.\n",
        "2. Around 50% of the groups have less than 26 tickets assigned to it."
      ]
    },
    {
      "cell_type": "code",
      "metadata": {
        "colab": {
          "base_uri": "https://localhost:8080/",
          "height": 329
        },
        "id": "lCS3sQKC1ekr",
        "outputId": "1968f13d-29f8-4cec-ff01-f05ad79e6c20"
      },
      "source": [
        "target_dist = data['Assignment group'].value_counts().sort_values()\n",
        "\n",
        "my_colors = 'rgbkymc'\n",
        "plt.subplots(figsize=(22,5))\n",
        "target_dist.plot(kind='bar')\n",
        "plt.xlabel('Class')\n",
        "plt.ylabel('Data points per Class')\n",
        "plt.title('Distribution of yi in train data')\n",
        "plt.grid()\n",
        "plt.show()"
      ],
      "execution_count": 15,
      "outputs": [
        {
          "output_type": "display_data",
          "data": {
            "image/png": "[encoded data removed]",
            "text/plain": [
              "<Figure size 1584x360 with 1 Axes>"
            ]
          },
          "metadata": {
            "tags": [],
            "needs_background": "light"
          }
        }
      ]
    },
    {
      "cell_type": "markdown",
      "metadata": {
        "id": "NzY8oTcqCCnQ"
      },
      "source": [
        "1. Distribution of target class is skewed.\n",
        "2. Some groups have less than 10 tickets assigned to them.\n",
        "3. We can form a single group combining such groups.\n",
        "4. This will help us to reduce imbalance to some extent."
      ]
    },
    {
      "cell_type": "code",
      "metadata": {
        "colab": {
          "base_uri": "https://localhost:8080/"
        },
        "id": "cB7KjwblLIlC",
        "outputId": "e5a0da6a-a2f5-4187-c8f3-5ebd437f0b52"
      },
      "source": [
        "# Creating a single group of groups having less than 10 tickets assigned.\n",
        "sample = data.groupby(['Assignment group'])\n",
        "regroup=[]\n",
        "for grp in data['Assignment group'].unique():\n",
        "  if(sample.get_group(grp).shape[0]<10):\n",
        "    regroup.append(grp)\n",
        "print('Found {} groups which have under 10 samples'.format(len(regroup)))\n",
        "data['Assignment group']=data['Assignment group'].apply(lambda x : 'misc_grp' if x in regroup  else x)\n",
        "\n",
        "# Unique Groups check \n",
        "data['Assignment group'].unique()"
      ],
      "execution_count": 17,
      "outputs": [
        {
          "output_type": "stream",
          "text": [
            "Found 0 groups which have under 10 samples\n"
          ],
          "name": "stdout"
        },
        {
          "output_type": "execute_result",
          "data": {
            "text/plain": [
              "array(['GRP_0', 'GRP_1', 'GRP_3', 'GRP_4', 'GRP_5', 'GRP_6', 'GRP_7',\n",
              "       'GRP_8', 'GRP_9', 'GRP_10', 'GRP_11', 'GRP_12', 'GRP_13', 'GRP_14',\n",
              "       'GRP_15', 'GRP_16', 'GRP_17', 'GRP_18', 'GRP_19', 'GRP_2',\n",
              "       'GRP_20', 'GRP_21', 'GRP_22', 'GRP_23', 'GRP_24', 'GRP_25',\n",
              "       'GRP_26', 'GRP_27', 'GRP_28', 'GRP_29', 'GRP_30', 'GRP_31',\n",
              "       'GRP_33', 'GRP_34', 'misc_grp', 'GRP_36', 'GRP_37', 'GRP_39',\n",
              "       'GRP_40', 'GRP_41', 'GRP_42', 'GRP_44', 'GRP_45', 'GRP_47',\n",
              "       'GRP_48', 'GRP_50', 'GRP_53', 'GRP_60', 'GRP_62', 'GRP_65'],\n",
              "      dtype=object)"
            ]
          },
          "metadata": {
            "tags": []
          },
          "execution_count": 17
        }
      ]
    },
    {
      "cell_type": "code",
      "metadata": {
        "colab": {
          "base_uri": "https://localhost:8080/"
        },
        "id": "4QUTk8faM0bU",
        "outputId": "dde61732-ce42-4297-db2e-e8431563ea2b"
      },
      "source": [
        "len(data['Assignment group'].unique())"
      ],
      "execution_count": 18,
      "outputs": [
        {
          "output_type": "execute_result",
          "data": {
            "text/plain": [
              "50"
            ]
          },
          "metadata": {
            "tags": []
          },
          "execution_count": 18
        }
      ]
    },
    {
      "cell_type": "markdown",
      "metadata": {
        "id": "FWFIKLd_NmBR"
      },
      "source": [
        " 1. Now there are 50 unique groups"
      ]
    },
    {
      "cell_type": "markdown",
      "metadata": {
        "id": "OVwPuF74C4JH"
      },
      "source": [
        "### Remove caller feature"
      ]
    },
    {
      "cell_type": "code",
      "metadata": {
        "id": "YpYT-3OvCtuu"
      },
      "source": [
        "#data = data.drop(\"Caller\", axis=1)\n",
        "#data = data.drop(\"Short description\", axis=1)\n"
      ],
      "execution_count": null,
      "outputs": []
    },
    {
      "cell_type": "markdown",
      "metadata": {
        "id": "EUXaepTsLtfA"
      },
      "source": [
        "### Merge Short Description and Description"
      ]
    },
    {
      "cell_type": "code",
      "metadata": {
        "id": "zN8iJsrGLqVf"
      },
      "source": [
        "data['Description'] = data['Description'].str.cat(data['Short description'], sep =\" \")"
      ],
      "execution_count": 19,
      "outputs": []
    },
    {
      "cell_type": "code",
      "metadata": {
        "id": "YvMCYshfMX_J"
      },
      "source": [
        "data = data.drop(\"Short description\", axis=1)"
      ],
      "execution_count": 20,
      "outputs": []
    },
    {
      "cell_type": "markdown",
      "metadata": {
        "id": "sVURUvZYCYmv"
      },
      "source": [
        "### Data preprocessing"
      ]
    },
    {
      "cell_type": "markdown",
      "metadata": {
        "id": "IGTteGCoeeDH"
      },
      "source": [
        "#### Translation of German description to english"
      ]
    },
    {
      "cell_type": "code",
      "metadata": {
        "colab": {
          "base_uri": "https://localhost:8080/",
          "height": 102
        },
        "id": "TO-EBv0Xecvt",
        "outputId": "18deca81-b41d-483c-f460-4b7e0f0e8196"
      },
      "source": [
        "germanwordlist = ['bitte','nicht','konto','probleme','berechtigung','defekt','mehr','ausgetauscht','rechner', 'drucker','teilweise','freigegeben','genannten','anmeldeaccount',\n",
        "                  'besprochen','werden','durchwahl','oben','einrichten','zeitwirtschaft','seit','morgens','beheben','keine','zeitbuchungen','vorhanden','dringend','fehler',\n",
        "                  'werk','anmelde','auftrag','kein','skannen','freundlichen','werkzeuge,','hartstoffe','maste','schutzw','fertigung','immer','sehr','zugriff','freundliche',\n",
        "                  'geehrter','souzarft','noch','verbindungsherstellung','meldung','erneuten','glich','proben','beilageproben','beilage','auswerten','sinterleitstand','reparar',\n",
        "                  'reparo','rechner','koenigsee','entregar','atualiza','declara','programdntya','funcionando','preciso','hitacni','grergtger','zugriffsrechte','teamleiter',\n",
        "                  'abholen','wegen','weit','absender','wenn','abrechnung']\n",
        "pattern = '|'.join(germanwordlist)\n",
        "\n",
        "pattern"
      ],
      "execution_count": 21,
      "outputs": [
        {
          "output_type": "execute_result",
          "data": {
            "application/vnd.google.colaboratory.intrinsic+json": {
              "type": "string"
            },
            "text/plain": [
              "'bitte|nicht|konto|probleme|berechtigung|defekt|mehr|ausgetauscht|rechner|drucker|teilweise|freigegeben|genannten|anmeldeaccount|besprochen|werden|durchwahl|oben|einrichten|zeitwirtschaft|seit|morgens|beheben|keine|zeitbuchungen|vorhanden|dringend|fehler|werk|anmelde|auftrag|kein|skannen|freundlichen|werkzeuge,|hartstoffe|maste|schutzw|fertigung|immer|sehr|zugriff|freundliche|geehrter|souzarft|noch|verbindungsherstellung|meldung|erneuten|glich|proben|beilageproben|beilage|auswerten|sinterleitstand|reparar|reparo|rechner|koenigsee|entregar|atualiza|declara|programdntya|funcionando|preciso|hitacni|grergtger|zugriffsrechte|teamleiter|abholen|wegen|weit|absender|wenn|abrechnung'"
            ]
          },
          "metadata": {
            "tags": []
          },
          "execution_count": 21
        }
      ]
    },
    {
      "cell_type": "markdown",
      "metadata": {
        "id": "P1cVzVdUq1Pp"
      },
      "source": [
        "#### Index positions having description in german"
      ]
    },
    {
      "cell_type": "code",
      "metadata": {
        "colab": {
          "base_uri": "https://localhost:8080/"
        },
        "id": "YX0z0HFoe53U",
        "outputId": "0c3a6eb7-1904-4280-cf4c-f7ebe8b281d6"
      },
      "source": [
        "germanDescIndex = data[data['Description'].str.contains(pattern)].index\n",
        "germanDescIndex"
      ],
      "execution_count": 22,
      "outputs": [
        {
          "output_type": "execute_result",
          "data": {
            "text/plain": [
              "Int64Index([ 223,  238,  251,  255,  265,  270,  272,  302,  304,  305,\n",
              "            ...\n",
              "            8417, 8419, 8420, 8425, 8427, 8436, 8439, 8467, 8498, 8499],\n",
              "           dtype='int64', length=613)"
            ]
          },
          "metadata": {
            "tags": []
          },
          "execution_count": 22
        }
      ]
    },
    {
      "cell_type": "code",
      "metadata": {
        "colab": {
          "base_uri": "https://localhost:8080/",
          "height": 52
        },
        "id": "ulzQOh3xe_Dn",
        "outputId": "1911ec29-8dd4-4832-a78f-e70a812882db"
      },
      "source": [
        "# Before translation in english\n",
        "data['Description'][223]"
      ],
      "execution_count": 23,
      "outputs": [
        {
          "output_type": "execute_result",
          "data": {
            "application/vnd.google.colaboratory.intrinsic+json": {
              "type": "string"
            },
            "text/plain": [
              "'hallo ,\\n\\nes ist erneut passiert. der pc hat sich zum wiederholten male aufgehÃ¤ngt und mir lediglich einen blauen bildschirm mit weisser schrift prÃ¤sentiert.\\n\\nwas kÃ¶nnen wir da machen?\\n\\n probleme mit bluescreen .'"
            ]
          },
          "metadata": {
            "tags": []
          },
          "execution_count": 23
        }
      ]
    },
    {
      "cell_type": "code",
      "metadata": {
        "colab": {
          "base_uri": "https://localhost:8080/"
        },
        "id": "pzqdlRULfFE1",
        "outputId": "fbe15e5b-a82f-49ec-9cbc-83f9449465c9"
      },
      "source": [
        "# translation from german to english.\n",
        "!pip install googletrans==3.1.0a0\n",
        "from googletrans import Translator\n",
        "\n",
        "def translateIfRequired(x):\n",
        "    translator = Translator()\n",
        "    if translator.detect(x).lang != 'en':\n",
        "        translatedText = translator.translate(x).text\n",
        "    else:\n",
        "        translatedText = x\n",
        "    return translatedText"
      ],
      "execution_count": 24,
      "outputs": [
        {
          "output_type": "stream",
          "text": [
            "Collecting googletrans==3.1.0a0\n",
            "  Downloading https://files.pythonhosted.org/packages/19/3d/4e3a1609bf52f2f7b00436cc751eb977e27040665dde2bd57e7152989672/googletrans-3.1.0a0.tar.gz\n",
            "Collecting httpx==0.13.3\n",
            "\u001b[?25l  Downloading https://files.pythonhosted.org/packages/54/b4/698b284c6aed4d7c2b4fe3ba5df1fcf6093612423797e76fbb24890dd22f/httpx-0.13.3-py3-none-any.whl (55kB)\n",
            "\u001b[K     |████████████████████████████████| 61kB 5.6MB/s \n",
            "\u001b[?25hCollecting httpcore==0.9.*\n",
            "\u001b[?25l  Downloading https://files.pythonhosted.org/packages/dd/d5/e4ff9318693ac6101a2095e580908b591838c6f33df8d3ee8dd953ba96a8/httpcore-0.9.1-py3-none-any.whl (42kB)\n",
            "\u001b[K     |████████████████████████████████| 51kB 4.9MB/s \n",
            "\u001b[?25hRequirement already satisfied: chardet==3.* in /usr/local/lib/python3.7/dist-packages (from httpx==0.13.3->googletrans==3.1.0a0) (3.0.4)\n",
            "Collecting sniffio\n",
            "  Downloading https://files.pythonhosted.org/packages/52/b0/7b2e028b63d092804b6794595871f936aafa5e9322dcaaad50ebf67445b3/sniffio-1.2.0-py3-none-any.whl\n",
            "Requirement already satisfied: idna==2.* in /usr/local/lib/python3.7/dist-packages (from httpx==0.13.3->googletrans==3.1.0a0) (2.10)\n",
            "Collecting rfc3986<2,>=1.3\n",
            "  Downloading https://files.pythonhosted.org/packages/c4/e5/63ca2c4edf4e00657584608bee1001302bbf8c5f569340b78304f2f446cb/rfc3986-1.5.0-py2.py3-none-any.whl\n",
            "Requirement already satisfied: certifi in /usr/local/lib/python3.7/dist-packages (from httpx==0.13.3->googletrans==3.1.0a0) (2020.12.5)\n",
            "Collecting hstspreload\n",
            "\u001b[?25l  Downloading https://files.pythonhosted.org/packages/dd/50/606213e12fb49c5eb667df0936223dcaf461f94e215ea60244b2b1e9b039/hstspreload-2020.12.22-py3-none-any.whl (994kB)\n",
            "\u001b[K     |████████████████████████████████| 1.0MB 27.1MB/s \n",
            "\u001b[?25hCollecting h2==3.*\n",
            "\u001b[?25l  Downloading https://files.pythonhosted.org/packages/25/de/da019bcc539eeab02f6d45836f23858ac467f584bfec7a526ef200242afe/h2-3.2.0-py2.py3-none-any.whl (65kB)\n",
            "\u001b[K     |████████████████████████████████| 71kB 7.4MB/s \n",
            "\u001b[?25hCollecting h11<0.10,>=0.8\n",
            "\u001b[?25l  Downloading https://files.pythonhosted.org/packages/5a/fd/3dad730b0f95e78aeeb742f96fa7bbecbdd56a58e405d3da440d5bfb90c6/h11-0.9.0-py2.py3-none-any.whl (53kB)\n",
            "\u001b[K     |████████████████████████████████| 61kB 6.1MB/s \n",
            "\u001b[?25hCollecting hyperframe<6,>=5.2.0\n",
            "  Downloading https://files.pythonhosted.org/packages/19/0c/bf88182bcb5dce3094e2f3e4fe20db28a9928cb7bd5b08024030e4b140db/hyperframe-5.2.0-py2.py3-none-any.whl\n",
            "Collecting hpack<4,>=3.0\n",
            "  Downloading https://files.pythonhosted.org/packages/8a/cc/e53517f4a1e13f74776ca93271caef378dadec14d71c61c949d759d3db69/hpack-3.0.0-py2.py3-none-any.whl\n",
            "Building wheels for collected packages: googletrans\n",
            "  Building wheel for googletrans (setup.py) ... \u001b[?25l\u001b[?25hdone\n",
            "  Created wheel for googletrans: filename=googletrans-3.1.0a0-cp37-none-any.whl size=16368 sha256=c56f511eb91f39b3467764394b36f241ef2ee10ae6bc3b9e547c694922185454\n",
            "  Stored in directory: /root/.cache/pip/wheels/27/7a/a0/aff3babbb775549ce6813cb8fa7ff3c0848c4dc62c20f8fdac\n",
            "Successfully built googletrans\n",
            "Installing collected packages: hyperframe, hpack, h2, h11, sniffio, httpcore, rfc3986, hstspreload, httpx, googletrans\n",
            "Successfully installed googletrans-3.1.0a0 h11-0.9.0 h2-3.2.0 hpack-3.0.0 hstspreload-2020.12.22 httpcore-0.9.1 httpx-0.13.3 hyperframe-5.2.0 rfc3986-1.5.0 sniffio-1.2.0\n"
          ],
          "name": "stdout"
        }
      ]
    },
    {
      "cell_type": "code",
      "metadata": {
        "id": "MPcPUiGDfOAo"
      },
      "source": [
        "for rowId in germanDescIndex:\n",
        "    data['Description'][rowId] = translateIfRequired(data['Description'][rowId])"
      ],
      "execution_count": 25,
      "outputs": []
    },
    {
      "cell_type": "code",
      "metadata": {
        "colab": {
          "base_uri": "https://localhost:8080/",
          "height": 52
        },
        "id": "olEtxI32fV7o",
        "outputId": "5f78126f-6e0c-4d03-becf-0c4b295e697f"
      },
      "source": [
        "#After translation in english\n",
        "data['Description'][223] "
      ],
      "execution_count": 26,
      "outputs": [
        {
          "output_type": "execute_result",
          "data": {
            "application/vnd.google.colaboratory.intrinsic+json": {
              "type": "string"
            },
            "text/plain": [
              "'Hello ,\\n\\nit happened again. the pc hung itself up again and again and only presented me with a blue screen with white letters.\\n\\nwhat can we do there?\\n\\n problems with bluescreen.'"
            ]
          },
          "metadata": {
            "tags": []
          },
          "execution_count": 26
        }
      ]
    },
    {
      "cell_type": "code",
      "metadata": {
        "id": "vDtXe9-Kk9Pl"
      },
      "source": [
        "# Store the translated file\n",
        "file = open('/content/data_translated', 'wb')\n",
        "pickle.dump(data, file)"
      ],
      "execution_count": 27,
      "outputs": []
    },
    {
      "cell_type": "code",
      "metadata": {
        "id": "JyIjryaklXb1"
      },
      "source": [
        "file = open('/content/data_translated', 'rb')\n",
        "data = pickle.load(file)"
      ],
      "execution_count": 69,
      "outputs": []
    },
    {
      "cell_type": "code",
      "metadata": {
        "colab": {
          "base_uri": "https://localhost:8080/",
          "height": 343
        },
        "id": "J52qIt5Ar_pM",
        "outputId": "8dcadeb7-d938-4a60-e6bf-d88d6cb02904"
      },
      "source": [
        "data.head(10)"
      ],
      "execution_count": 70,
      "outputs": [
        {
          "output_type": "execute_result",
          "data": {
            "text/html": [
              "<div>\n",
              "<style scoped>\n",
              "    .dataframe tbody tr th:only-of-type {\n",
              "        vertical-align: middle;\n",
              "    }\n",
              "\n",
              "    .dataframe tbody tr th {\n",
              "        vertical-align: top;\n",
              "    }\n",
              "\n",
              "    .dataframe thead th {\n",
              "        text-align: right;\n",
              "    }\n",
              "</style>\n",
              "<table border=\"1\" class=\"dataframe\">\n",
              "  <thead>\n",
              "    <tr style=\"text-align: right;\">\n",
              "      <th></th>\n",
              "      <th>Description</th>\n",
              "      <th>Caller</th>\n",
              "      <th>Assignment group</th>\n",
              "    </tr>\n",
              "  </thead>\n",
              "  <tbody>\n",
              "    <tr>\n",
              "      <th>0</th>\n",
              "      <td>-verified user details.(employee# &amp; manager na...</td>\n",
              "      <td>spxjnwir pjlcoqds</td>\n",
              "      <td>GRP_0</td>\n",
              "    </tr>\n",
              "    <tr>\n",
              "      <th>1</th>\n",
              "      <td>\\r\\n\\r\\nreceived from: hmjdrvpb.komuaywn@gmail...</td>\n",
              "      <td>hmjdrvpb komuaywn</td>\n",
              "      <td>GRP_0</td>\n",
              "    </tr>\n",
              "    <tr>\n",
              "      <th>2</th>\n",
              "      <td>\\r\\n\\r\\nreceived from: eylqgodm.ybqkwiam@gmail...</td>\n",
              "      <td>eylqgodm ybqkwiam</td>\n",
              "      <td>GRP_0</td>\n",
              "    </tr>\n",
              "    <tr>\n",
              "      <th>3</th>\n",
              "      <td>unable to access hr_tool page unable to access...</td>\n",
              "      <td>xbkucsvz gcpydteq</td>\n",
              "      <td>GRP_0</td>\n",
              "    </tr>\n",
              "    <tr>\n",
              "      <th>4</th>\n",
              "      <td>skype error  skype error</td>\n",
              "      <td>owlgqjme qhcozdfx</td>\n",
              "      <td>GRP_0</td>\n",
              "    </tr>\n",
              "    <tr>\n",
              "      <th>5</th>\n",
              "      <td>unable to log in to engineering tool and skype...</td>\n",
              "      <td>eflahbxn ltdgrvkz</td>\n",
              "      <td>GRP_0</td>\n",
              "    </tr>\n",
              "    <tr>\n",
              "      <th>6</th>\n",
              "      <td>event: critical:HostName_221.company.com the v...</td>\n",
              "      <td>jyoqwxhz clhxsoqy</td>\n",
              "      <td>GRP_1</td>\n",
              "    </tr>\n",
              "    <tr>\n",
              "      <th>7</th>\n",
              "      <td>ticket_no1550391- employment status - new non-...</td>\n",
              "      <td>eqzibjhw ymebpoih</td>\n",
              "      <td>GRP_0</td>\n",
              "    </tr>\n",
              "    <tr>\n",
              "      <th>8</th>\n",
              "      <td>unable to disable add ins on outlook unable to...</td>\n",
              "      <td>mdbegvct dbvichlg</td>\n",
              "      <td>GRP_0</td>\n",
              "    </tr>\n",
              "    <tr>\n",
              "      <th>9</th>\n",
              "      <td>ticket update on inplant_874773 ticket update ...</td>\n",
              "      <td>fumkcsji sarmtlhy</td>\n",
              "      <td>GRP_0</td>\n",
              "    </tr>\n",
              "  </tbody>\n",
              "</table>\n",
              "</div>"
            ],
            "text/plain": [
              "                                         Description  ... Assignment group\n",
              "0  -verified user details.(employee# & manager na...  ...            GRP_0\n",
              "1  \\r\\n\\r\\nreceived from: hmjdrvpb.komuaywn@gmail...  ...            GRP_0\n",
              "2  \\r\\n\\r\\nreceived from: eylqgodm.ybqkwiam@gmail...  ...            GRP_0\n",
              "3  unable to access hr_tool page unable to access...  ...            GRP_0\n",
              "4                          skype error  skype error   ...            GRP_0\n",
              "5  unable to log in to engineering tool and skype...  ...            GRP_0\n",
              "6  event: critical:HostName_221.company.com the v...  ...            GRP_1\n",
              "7  ticket_no1550391- employment status - new non-...  ...            GRP_0\n",
              "8  unable to disable add ins on outlook unable to...  ...            GRP_0\n",
              "9  ticket update on inplant_874773 ticket update ...  ...            GRP_0\n",
              "\n",
              "[10 rows x 3 columns]"
            ]
          },
          "metadata": {
            "tags": []
          },
          "execution_count": 70
        }
      ]
    },
    {
      "cell_type": "markdown",
      "metadata": {
        "id": "WKmrfO3OfYgK"
      },
      "source": [
        "#### Remove stopwords"
      ]
    },
    {
      "cell_type": "code",
      "metadata": {
        "id": "v0MZCNzbB_nW"
      },
      "source": [
        "stop_words = set(stopwords.words('english')).union(set(stopwords.words('german')))\n",
        "\n",
        "def text_preprocessing(total_text, index, column):\n",
        "  if type(total_text) is not int:\n",
        "        string = \"\"\n",
        "        #total_text = re.sub(r\"\\d{2}[-|/]\\d{2}[-|/]\\d{4}\", ' ', total_text)\n",
        "        #total_text = re.sub(r\"\\d{2}:\\d{2}:\\d{2}\", ' ', total_text)\n",
        "        #total_text = re.sub(r\"\\d{2}:\\d{2}\", ' ', total_text)\n",
        "        # replace every special char with space\n",
        "       \n",
        "        total_text = re.sub(r\"^[a-zA-Z0-9+_.-]+@[a-zA-Z0-9.-]+$\", ' ', total_text)\n",
        "        total_text = re.sub(r\"received from:\", ' ', total_text)\n",
        "        total_text = re.sub(r\"from:\", ' ', total_text)\n",
        "        total_text = re.sub(r\"to:\", ' ', total_text)\n",
        "        total_text = re.sub(r\"subject:\", ' ', total_text)\n",
        "        total_text = re.sub(r\"sent:\", ' ', total_text)\n",
        "        total_text = re.sub(r\"ic:\", ' ', total_text)\n",
        "        total_text = re.sub(r\"cc:\", ' ', total_text)\n",
        "        total_text = re.sub(r\"bcc:\", ' ', total_text)\n",
        "        total_text = re.sub(r\".com\", ' ', total_text)\n",
        "        total_text = re.sub('[^a-zA-Z\\n]', ' ', total_text)\n",
        "        total_text = re.sub('hi', ' ', total_text)\n",
        "        total_text = re.sub('hello', ' ', total_text)\n",
        "        \n",
        "        #total_text = re.sub(r\"\\Aat:\", ' ', total_text)\n",
        "\n",
        "        # replace multiple spaces with single space\n",
        "        total_text = re.sub('\\s+',' ', total_text)\n",
        "        # converting all the chars into lower-case.\n",
        "        total_text = total_text.lower()\n",
        "        \n",
        "        for word in total_text.split():\n",
        "        # if the word is a not a stop word then retain that word from the data\n",
        "            if not word in stop_words:\n",
        "                string += word + \" \"\n",
        "        \n",
        "        data[column][index] = string\n",
        "  \n",
        "\n",
        "    "
      ],
      "execution_count": 71,
      "outputs": []
    },
    {
      "cell_type": "code",
      "metadata": {
        "id": "gyRcA13IEIFN"
      },
      "source": [
        "for index, row in data.iterrows():\n",
        "    #if type(row['Description']) is str:\n",
        "    text_preprocessing(row['Description'], index, 'Description')\n",
        "    #else:\n",
        "    #print(\"there is no text description for id:\",index)"
      ],
      "execution_count": 72,
      "outputs": []
    },
    {
      "cell_type": "code",
      "metadata": {
        "colab": {
          "base_uri": "https://localhost:8080/",
          "height": 35
        },
        "id": "3v03enCYidsM",
        "outputId": "9c57719f-89dc-4647-9552-b380cfe2910c"
      },
      "source": [
        "data['Description'][90]"
      ],
      "execution_count": 73,
      "outputs": [
        {
          "output_type": "execute_result",
          "data": {
            "application/vnd.google.colaboratory.intrinsic+json": {
              "type": "string"
            },
            "text/plain": [
              "'monitoring tool pany job sid cold failed job scheduler job sid cold failed job scheduler '"
            ]
          },
          "metadata": {
            "tags": []
          },
          "execution_count": 73
        }
      ]
    },
    {
      "cell_type": "markdown",
      "metadata": {
        "id": "Im0z-0iszVcf"
      },
      "source": [
        "#### Remove duplicate rows"
      ]
    },
    {
      "cell_type": "code",
      "metadata": {
        "id": "H4NHpm9v9zGL"
      },
      "source": [
        "data = data.drop_duplicates(\"Description\",keep='first')"
      ],
      "execution_count": 75,
      "outputs": []
    },
    {
      "cell_type": "code",
      "metadata": {
        "colab": {
          "base_uri": "https://localhost:8080/"
        },
        "id": "v_gSRX8B-G75",
        "outputId": "82005bb4-d8ee-4d22-fe1f-87f5273eb198"
      },
      "source": [
        "data.shape"
      ],
      "execution_count": 76,
      "outputs": [
        {
          "output_type": "execute_result",
          "data": {
            "text/plain": [
              "(6700, 3)"
            ]
          },
          "metadata": {
            "tags": []
          },
          "execution_count": 76
        }
      ]
    },
    {
      "cell_type": "code",
      "metadata": {
        "colab": {
          "base_uri": "https://localhost:8080/"
        },
        "id": "Ny4cgBUf-hGM",
        "outputId": "2c9f0d78-cad1-4f7f-9196-c85db60916a6"
      },
      "source": [
        "len(data['Assignment group'].unique())"
      ],
      "execution_count": 77,
      "outputs": [
        {
          "output_type": "execute_result",
          "data": {
            "text/plain": [
              "50"
            ]
          },
          "metadata": {
            "tags": []
          },
          "execution_count": 77
        }
      ]
    },
    {
      "cell_type": "markdown",
      "metadata": {
        "id": "WIOGvs_Eft7U"
      },
      "source": [
        "#### Lemmatization"
      ]
    },
    {
      "cell_type": "code",
      "metadata": {
        "id": "eyfSXA5dfsKD"
      },
      "source": [
        "lemmatizer = WordNetLemmatizer()\n",
        "def lematize(sentence):\n",
        "  a = []\n",
        "  tokens = nltk.word_tokenize(sentence)\n",
        "  for word in tokens:\n",
        "    #print (word)\n",
        "    s = lemmatizer.lemmatize(word)\n",
        "    #print(s)\n",
        "    a.append(s)\n",
        "    a.append(\" \")\n",
        "  new_sent = \" \".join(a)\n",
        "  return new_sent\n",
        "  #print(new_sent)\n",
        "  #data[column][index] = new_sent"
      ],
      "execution_count": 78,
      "outputs": []
    },
    {
      "cell_type": "code",
      "metadata": {
        "id": "GH_OD2KuhJxQ"
      },
      "source": [
        "data['Description'] = data['Description'].apply(lematize)"
      ],
      "execution_count": 79,
      "outputs": []
    },
    {
      "cell_type": "code",
      "metadata": {
        "colab": {
          "base_uri": "https://localhost:8080/",
          "height": 35
        },
        "id": "ei2VQYLiqgft",
        "outputId": "6f0b6993-c882-41ee-eb66-dffe3dc359f4"
      },
      "source": [
        "data['Description'][2]"
      ],
      "execution_count": 80,
      "outputs": [
        {
          "output_type": "execute_result",
          "data": {
            "application/vnd.google.colaboratory.intrinsic+json": {
              "type": "string"
            },
            "text/plain": [
              "'eylqgodm   ybqkwiam   gmail   can   not   log   vpn   best   cant   log   vpn  '"
            ]
          },
          "metadata": {
            "tags": []
          },
          "execution_count": 80
        }
      ]
    },
    {
      "cell_type": "markdown",
      "metadata": {
        "id": "eOW2r9HPwWLh"
      },
      "source": [
        "#### Remov callers name from Description."
      ]
    },
    {
      "cell_type": "markdown",
      "metadata": {
        "id": "fTAHRqkfwfrH"
      },
      "source": [
        "Most of the descriptions contains the callers name. We can remove that from description as it wont add much value."
      ]
    },
    {
      "cell_type": "code",
      "metadata": {
        "id": "aLjz_b8DGxxN"
      },
      "source": [
        "# get all the callers from column Caller\n",
        "callers = data['Caller'].values"
      ],
      "execution_count": 81,
      "outputs": []
    },
    {
      "cell_type": "code",
      "metadata": {
        "id": "A1jDg_RKZmv-"
      },
      "source": [
        "# Split first name, last name and add them in one list\n",
        "l = []\n",
        "for i in callers:\n",
        "  l.append(i.split()[0])\n",
        "  l.append(i.split()[1])"
      ],
      "execution_count": 82,
      "outputs": []
    },
    {
      "cell_type": "code",
      "metadata": {
        "id": "qlsXVSxzEwR9"
      },
      "source": [
        "# For each description check if the word is present in list l. Join the words that are not present in list l.\n",
        "data['Description'] = data['Description'].apply(lambda x : \" \".join([word for word in x.split() if word not in l]))"
      ],
      "execution_count": 83,
      "outputs": []
    },
    {
      "cell_type": "code",
      "metadata": {
        "colab": {
          "base_uri": "https://localhost:8080/",
          "height": 35
        },
        "id": "yHs8xlryY_Xx",
        "outputId": "c597df70-79cd-4565-90e3-a74f1d2f5484"
      },
      "source": [
        "# After removing callers name.\n",
        "data['Description'][2]"
      ],
      "execution_count": 84,
      "outputs": [
        {
          "output_type": "execute_result",
          "data": {
            "application/vnd.google.colaboratory.intrinsic+json": {
              "type": "string"
            },
            "text/plain": [
              "'gmail can not log vpn best cant log vpn'"
            ]
          },
          "metadata": {
            "tags": []
          },
          "execution_count": 84
        }
      ]
    },
    {
      "cell_type": "markdown",
      "metadata": {
        "id": "CInvbqY_vY2x"
      },
      "source": [
        "#### Remove duplicate words from Description"
      ]
    },
    {
      "cell_type": "markdown",
      "metadata": {
        "id": "Ct02U5hsxgyl"
      },
      "source": [
        "As we have joined the short description and description, there are some duplicate words which should be removed."
      ]
    },
    {
      "cell_type": "code",
      "metadata": {
        "id": "vkZsZfyfu9kq"
      },
      "source": [
        "# Below function remove duplicate words from string\n",
        "# reference - https://www.geeksforgeeks.org/python-remove-duplicates-words-given-sentence/\n",
        "\n",
        "from collections import Counter\n",
        "  \n",
        "def remov_duplicates(input):\n",
        "  \n",
        "    # split input string separated by space\n",
        "    input = input.split(\" \")\n",
        "  \n",
        "    # joins two adjacent elements in iterable way\n",
        "    for i in range(0, len(input)):\n",
        "        input[i] = \"\".join(input[i])\n",
        "  \n",
        "    # now create dictionary using counter method\n",
        "    # which will have strings as key and their \n",
        "    # frequencies as value\n",
        "    UniqW = Counter(input)\n",
        "  \n",
        "    # joins two adjacent elements in iterable way\n",
        "    s = \" \".join(UniqW.keys())\n",
        "    return s"
      ],
      "execution_count": 85,
      "outputs": []
    },
    {
      "cell_type": "code",
      "metadata": {
        "id": "tkzQsLDtvBYB"
      },
      "source": [
        "data['Description'] = data['Description'].apply(remov_duplicates)"
      ],
      "execution_count": 86,
      "outputs": []
    },
    {
      "cell_type": "markdown",
      "metadata": {
        "id": "42ovc-4hyAkZ"
      },
      "source": [
        "#### Word Cloud"
      ]
    },
    {
      "cell_type": "code",
      "metadata": {
        "id": "nPM5bPJnRTmV"
      },
      "source": [
        "# Get all descriptions for tickets assigned to GRP_0\n",
        "grp_0 = data.loc[data['Assignment group'] == 'GRP_0']['Description']"
      ],
      "execution_count": 87,
      "outputs": []
    },
    {
      "cell_type": "code",
      "metadata": {
        "id": "ZOsUJD34vncO"
      },
      "source": [
        "# Convert them in one string\n",
        "des_str = \" \"\n",
        "for sent in grp_0.values:\n",
        "   des_str = des_str + \" \" + sent"
      ],
      "execution_count": 89,
      "outputs": []
    },
    {
      "cell_type": "code",
      "metadata": {
        "colab": {
          "base_uri": "https://localhost:8080/",
          "height": 198
        },
        "id": "u1R7Rs9mG5o7",
        "outputId": "3c8607f0-9d3f-48fe-f09f-e62f790e447a"
      },
      "source": [
        "# Code to generate word cloud for GRP_0\n",
        "\n",
        "from PIL import Image\n",
        "from wordcloud import WordCloud, STOPWORDS, ImageColorGenerator\n",
        "\n",
        "import matplotlib.pyplot as plt\n",
        "\n",
        "# Create and generate a word cloud image:\n",
        "wordcloud = WordCloud().generate(des_str)\n",
        "\n",
        "# Display the generated image:\n",
        "plt.imshow(wordcloud, interpolation='bilinear')\n",
        "plt.axis(\"off\")\n",
        "plt.show()"
      ],
      "execution_count": 91,
      "outputs": [
        {
          "output_type": "display_data",
          "data": {
            "image/png": "[encoded data removed]",
            "text/plain": [
              "<Figure size 432x288 with 1 Axes>"
            ]
          },
          "metadata": {
            "tags": [],
            "needs_background": "light"
          }
        }
      ]
    },
    {
      "cell_type": "code",
      "metadata": {
        "id": "1RDHy8_iv1iV"
      },
      "source": [
        "# Get all descriptions for tickets assigned to groups other than GRP_0\n",
        "\n",
        "other = data.loc[data['Assignment group'] != 'GRP_0']['Description']"
      ],
      "execution_count": 92,
      "outputs": []
    },
    {
      "cell_type": "code",
      "metadata": {
        "id": "-PimPYqPv6Sd"
      },
      "source": [
        "# Convert them in one string\n",
        "\n",
        "des_str_other = \" \"\n",
        "for sent in other.values:\n",
        "   des_str_other = des_str_other + \" \" + sent"
      ],
      "execution_count": 93,
      "outputs": []
    },
    {
      "cell_type": "code",
      "metadata": {
        "colab": {
          "base_uri": "https://localhost:8080/",
          "height": 198
        },
        "id": "Zj4MtXoYIuw2",
        "outputId": "12dd99dc-08d5-424a-f857-b9b2abf33025"
      },
      "source": [
        "# Create and generate a word cloud image:\n",
        "wordcloud = WordCloud().generate(des_str_other)\n",
        "\n",
        "# Display the generated image:\n",
        "plt.imshow(wordcloud, interpolation='bilinear')\n",
        "plt.axis(\"off\")\n",
        "plt.show()"
      ],
      "execution_count": 94,
      "outputs": [
        {
          "output_type": "display_data",
          "data": {
            "image/png": "[encoded data removed]",
            "text/plain": [
              "<Figure size 432x288 with 1 Axes>"
            ]
          },
          "metadata": {
            "tags": [],
            "needs_background": "light"
          }
        }
      ]
    },
    {
      "cell_type": "markdown",
      "metadata": {
        "id": "W8if7-CX0Xwi"
      },
      "source": [
        "1. From first word cloud it seems outlook and access related issues are assigned to GRP_0\n",
        "2. From second  word cloud it seems erp  related issues are not assigned to GRP_0"
      ]
    },
    {
      "cell_type": "markdown",
      "metadata": {
        "id": "ga2LGRC9OHza"
      },
      "source": [
        "### Store prerocessed data"
      ]
    },
    {
      "cell_type": "code",
      "metadata": {
        "id": "Z9r542FT1Lk_"
      },
      "source": [
        "file = open('/content/data_clean', 'wb')\n",
        "pickle.dump(data, file)"
      ],
      "execution_count": 95,
      "outputs": []
    },
    {
      "cell_type": "markdown",
      "metadata": {
        "id": "ky2jaWisOND2"
      },
      "source": [
        "### Model 1 - GRP0 Vs Others"
      ]
    },
    {
      "cell_type": "code",
      "metadata": {
        "id": "_BlfFmrS2ZWz"
      },
      "source": [
        "file = open('/content/data_clean', 'rb')\n",
        "data_clean = pickle.load(file)"
      ],
      "execution_count": 96,
      "outputs": []
    },
    {
      "cell_type": "markdown",
      "metadata": {
        "id": "M6X2PkS0Oy6y"
      },
      "source": [
        "#### Data distribution"
      ]
    },
    {
      "cell_type": "code",
      "metadata": {
        "id": "PSSPJZsMMasS"
      },
      "source": [
        "data_clean['Assignment group'] = data_clean['Assignment group'].apply(lambda x : 'others' if x != 'GRP_0' else x)"
      ],
      "execution_count": 97,
      "outputs": []
    },
    {
      "cell_type": "code",
      "metadata": {
        "colab": {
          "base_uri": "https://localhost:8080/",
          "height": 286
        },
        "id": "GiAoPRN2NYby",
        "outputId": "019fde9e-1863-41f4-feae-711c89cbaa61"
      },
      "source": [
        "import seaborn as sns\n",
        "sns.set_theme(style=\"darkgrid\")\n",
        "ax = sns.countplot(x=\"Assignment group\", data=data_clean)"
      ],
      "execution_count": 98,
      "outputs": [
        {
          "output_type": "display_data",
          "data": {
            "image/png": "[encoded data removed]",
            "text/plain": [
              "<Figure size 432x288 with 1 Axes>"
            ]
          },
          "metadata": {
            "tags": []
          }
        }
      ]
    },
    {
      "cell_type": "markdown",
      "metadata": {
        "id": "_L-LZEUVmy6i"
      },
      "source": [
        "#### Split data in training and testing data"
      ]
    },
    {
      "cell_type": "code",
      "metadata": {
        "id": "BKUMnx0KoqXr"
      },
      "source": [
        "X = data_clean['Description']\n",
        "Y = data_clean['Assignment group']"
      ],
      "execution_count": 99,
      "outputs": []
    },
    {
      "cell_type": "code",
      "metadata": {
        "id": "DYDKxjzgyBwG"
      },
      "source": [
        "Y = Y.map({'GRP_0': 0, 'others':1})"
      ],
      "execution_count": 100,
      "outputs": []
    },
    {
      "cell_type": "code",
      "metadata": {
        "id": "Af5AT8_KmyFU"
      },
      "source": [
        "X_train, X_test, Y_train, Y_test = train_test_split(X, Y, random_state=1, test_size=0.25, stratify=Y, shuffle=True)"
      ],
      "execution_count": 102,
      "outputs": []
    },
    {
      "cell_type": "code",
      "metadata": {
        "colab": {
          "base_uri": "https://localhost:8080/"
        },
        "id": "92uEjjyjndio",
        "outputId": "03e30a09-c6ac-4873-d77a-e2f454ac6bd0"
      },
      "source": [
        "X_train.shape"
      ],
      "execution_count": 103,
      "outputs": [
        {
          "output_type": "execute_result",
          "data": {
            "text/plain": [
              "(5025,)"
            ]
          },
          "metadata": {
            "tags": []
          },
          "execution_count": 103
        }
      ]
    },
    {
      "cell_type": "code",
      "metadata": {
        "colab": {
          "base_uri": "https://localhost:8080/"
        },
        "id": "y_GR22KJn6YS",
        "outputId": "736028b4-76c5-4813-f78f-e7626e83c484"
      },
      "source": [
        "X_test.shape"
      ],
      "execution_count": 104,
      "outputs": [
        {
          "output_type": "execute_result",
          "data": {
            "text/plain": [
              "(1675,)"
            ]
          },
          "metadata": {
            "tags": []
          },
          "execution_count": 104
        }
      ]
    },
    {
      "cell_type": "markdown",
      "metadata": {
        "id": "uWfPcxM2rqL4"
      },
      "source": [
        "#### Vectorization"
      ]
    },
    {
      "cell_type": "markdown",
      "metadata": {
        "id": "U1rh0dLJPIty"
      },
      "source": [
        "##### TFIDF"
      ]
    },
    {
      "cell_type": "code",
      "metadata": {
        "colab": {
          "base_uri": "https://localhost:8080/"
        },
        "id": "C2IMy6g3pKxD",
        "outputId": "7d190f58-3eb4-4710-adc3-b8d64988af36"
      },
      "source": [
        "vectorizer = TfidfVectorizer(\n",
        "    analyzer=\"word\", max_df=0.3, min_df=10, ngram_range=(1, 2), norm=\"l2\"\n",
        ")\n",
        "vectorizer.fit(X_train)"
      ],
      "execution_count": 105,
      "outputs": [
        {
          "output_type": "execute_result",
          "data": {
            "text/plain": [
              "TfidfVectorizer(analyzer='word', binary=False, decode_error='strict',\n",
              "                dtype=<class 'numpy.float64'>, encoding='utf-8',\n",
              "                input='content', lowercase=True, max_df=0.3, max_features=None,\n",
              "                min_df=10, ngram_range=(1, 2), norm='l2', preprocessor=None,\n",
              "                smooth_idf=True, stop_words=None, strip_accents=None,\n",
              "                sublinear_tf=False, token_pattern='(?u)\\\\b\\\\w\\\\w+\\\\b',\n",
              "                tokenizer=None, use_idf=True, vocabulary=None)"
            ]
          },
          "metadata": {
            "tags": []
          },
          "execution_count": 105
        }
      ]
    },
    {
      "cell_type": "code",
      "metadata": {
        "id": "78XTKukSpURD"
      },
      "source": [
        "x_train_tfidf = vectorizer.transform(X_train)\n",
        "x_test_tfidf = vectorizer.transform(X_test)"
      ],
      "execution_count": 106,
      "outputs": []
    },
    {
      "cell_type": "code",
      "metadata": {
        "colab": {
          "base_uri": "https://localhost:8080/"
        },
        "id": "ZZ6BLUBmrb8O",
        "outputId": "c82fc6be-f299-4cbb-aec2-9e148dfc5332"
      },
      "source": [
        "x_train_tfidf.shape"
      ],
      "execution_count": 107,
      "outputs": [
        {
          "output_type": "execute_result",
          "data": {
            "text/plain": [
              "(5025, 1883)"
            ]
          },
          "metadata": {
            "tags": []
          },
          "execution_count": 107
        }
      ]
    },
    {
      "cell_type": "code",
      "metadata": {
        "colab": {
          "base_uri": "https://localhost:8080/"
        },
        "id": "Yh2C0cw8rjWi",
        "outputId": "64636d67-02b6-4dee-e5a4-ea01720b4602"
      },
      "source": [
        "x_test_tfidf.shape"
      ],
      "execution_count": 108,
      "outputs": [
        {
          "output_type": "execute_result",
          "data": {
            "text/plain": [
              "(1675, 1883)"
            ]
          },
          "metadata": {
            "tags": []
          },
          "execution_count": 108
        }
      ]
    },
    {
      "cell_type": "markdown",
      "metadata": {
        "id": "-YiIc8nPOpyh"
      },
      "source": [
        "#### Modeling"
      ]
    },
    {
      "cell_type": "code",
      "metadata": {
        "id": "JOVJFfH6P-q4"
      },
      "source": [
        "classifiers = [\n",
        "    LogisticRegression(solver=\"sag\", random_state=1),\n",
        "    LinearSVC(random_state=1),\n",
        "    RandomForestClassifier(random_state=1),\n",
        "    XGBClassifier(random_state=1),\n",
        "    MLPClassifier(\n",
        "        random_state=1,\n",
        "        solver=\"adam\",\n",
        "        hidden_layer_sizes=(12, 12, 12),\n",
        "        activation=\"relu\",\n",
        "        early_stopping=True,\n",
        "        n_iter_no_change=1,\n",
        "    ),\n",
        "]"
      ],
      "execution_count": 118,
      "outputs": []
    },
    {
      "cell_type": "code",
      "metadata": {
        "id": "4eqH5BbvQSZp"
      },
      "source": [
        "names =  ['LogisticRegression', 'LinearSVC', 'RandomForestClassifier', 'XGBClassifier', 'MLPClassifier']"
      ],
      "execution_count": 119,
      "outputs": []
    },
    {
      "cell_type": "code",
      "metadata": {
        "colab": {
          "base_uri": "https://localhost:8080/"
        },
        "id": "uxbQvGfVQNLv",
        "outputId": "df0c200c-0e2a-4452-c9bd-e7ff83959a37"
      },
      "source": [
        "%%time\n",
        "# test all classifiers and save pred. results on test data\n",
        "results = {}\n",
        "for name, clf in zip(names, classifiers):\n",
        "    print(f\"Training classifier: {name}\")\n",
        "    clf.fit(x_train_tfidf, Y_train)\n",
        "    prediction = clf.predict(x_test_tfidf)\n",
        "    report = sklearn.metrics.classification_report(Y_test, prediction)\n",
        "    #conf_mat = confusion_matrix(Y_test, prediction)\n",
        "    results[name] = report"
      ],
      "execution_count": 120,
      "outputs": [
        {
          "output_type": "stream",
          "text": [
            "Training classifier: LogisticRegression\n",
            "Training classifier: LinearSVC\n",
            "Training classifier: RandomForestClassifier\n",
            "Training classifier: XGBClassifier\n",
            "Training classifier: MLPClassifier\n",
            "CPU times: user 5.3 s, sys: 514 ms, total: 5.81 s\n",
            "Wall time: 5.28 s\n"
          ],
          "name": "stdout"
        }
      ]
    },
    {
      "cell_type": "code",
      "metadata": {
        "colab": {
          "base_uri": "https://localhost:8080/"
        },
        "id": "js1PYGUNSw7Q",
        "outputId": "338cabc4-470a-40ff-ca73-66dc6e8a2012"
      },
      "source": [
        "# Prediction results\n",
        "for k, v in results.items():\n",
        "    print(f\"Results for {k}:\")\n",
        "    print(f\"{v}\\n\")\n"
      ],
      "execution_count": 121,
      "outputs": [
        {
          "output_type": "stream",
          "text": [
            "Results for LogisticRegression:\n",
            "              precision    recall  f1-score   support\n",
            "\n",
            "           0       0.80      0.80      0.80       781\n",
            "           1       0.82      0.82      0.82       894\n",
            "\n",
            "    accuracy                           0.81      1675\n",
            "   macro avg       0.81      0.81      0.81      1675\n",
            "weighted avg       0.81      0.81      0.81      1675\n",
            "\n",
            "\n",
            "Results for LinearSVC:\n",
            "              precision    recall  f1-score   support\n",
            "\n",
            "           0       0.77      0.79      0.78       781\n",
            "           1       0.81      0.80      0.80       894\n",
            "\n",
            "    accuracy                           0.79      1675\n",
            "   macro avg       0.79      0.79      0.79      1675\n",
            "weighted avg       0.79      0.79      0.79      1675\n",
            "\n",
            "\n",
            "Results for RandomForestClassifier:\n",
            "              precision    recall  f1-score   support\n",
            "\n",
            "           0       0.79      0.78      0.79       781\n",
            "           1       0.81      0.82      0.82       894\n",
            "\n",
            "    accuracy                           0.80      1675\n",
            "   macro avg       0.80      0.80      0.80      1675\n",
            "weighted avg       0.80      0.80      0.80      1675\n",
            "\n",
            "\n",
            "Results for XGBClassifier:\n",
            "              precision    recall  f1-score   support\n",
            "\n",
            "           0       0.82      0.64      0.72       781\n",
            "           1       0.74      0.88      0.80       894\n",
            "\n",
            "    accuracy                           0.77      1675\n",
            "   macro avg       0.78      0.76      0.76      1675\n",
            "weighted avg       0.78      0.77      0.77      1675\n",
            "\n",
            "\n",
            "Results for MLPClassifier:\n",
            "              precision    recall  f1-score   support\n",
            "\n",
            "           0       0.80      0.80      0.80       781\n",
            "           1       0.83      0.82      0.82       894\n",
            "\n",
            "    accuracy                           0.81      1675\n",
            "   macro avg       0.81      0.81      0.81      1675\n",
            "weighted avg       0.81      0.81      0.81      1675\n",
            "\n",
            "\n"
          ],
          "name": "stdout"
        }
      ]
    },
    {
      "cell_type": "code",
      "metadata": {
        "colab": {
          "base_uri": "https://localhost:8080/"
        },
        "id": "-R1yGUSDZtKO",
        "outputId": "45b1acd5-7a6f-4b31-b4f9-1cf27d518307"
      },
      "source": [
        "# feature creation and modelling in a single function\n",
        "pipe = Pipeline([(\"tfidf\", TfidfVectorizer()), (\"log_reg\", LogisticRegression(class_weight='balanced'))])\n",
        "\n",
        "# define parameter space to test # runtime 35min\n",
        "params = {\n",
        "    \"tfidf__ngram_range\": [(1, 1), (1, 2), (1, 3)],\n",
        "    \"tfidf__max_df\": np.arange(0.3, 0.8, 0.2),\n",
        "    \"tfidf__min_df\": np.arange(5, 100, 45),\n",
        "}\n",
        "pipe_clf = GridSearchCV(pipe, params, n_jobs=-1, scoring=\"f1_macro\")\n",
        "pipe_clf.fit(X_train, Y_train)\n",
        "#pickle.dump(pipe_clf, open(\"./clf_pipe.pck\", \"wb\"))"
      ],
      "execution_count": 123,
      "outputs": [
        {
          "output_type": "execute_result",
          "data": {
            "text/plain": [
              "GridSearchCV(cv=None, error_score=nan,\n",
              "             estimator=Pipeline(memory=None,\n",
              "                                steps=[('tfidf',\n",
              "                                        TfidfVectorizer(analyzer='word',\n",
              "                                                        binary=False,\n",
              "                                                        decode_error='strict',\n",
              "                                                        dtype=<class 'numpy.float64'>,\n",
              "                                                        encoding='utf-8',\n",
              "                                                        input='content',\n",
              "                                                        lowercase=True,\n",
              "                                                        max_df=1.0,\n",
              "                                                        max_features=None,\n",
              "                                                        min_df=1,\n",
              "                                                        ngram_range=(1, 1),\n",
              "                                                        norm='l2',\n",
              "                                                        preprocessor=None,\n",
              "                                                        smooth_idf=True,\n",
              "                                                        stop_words=None,\n",
              "                                                        strip_...\n",
              "                                                           n_jobs=None,\n",
              "                                                           penalty='l2',\n",
              "                                                           random_state=None,\n",
              "                                                           solver='lbfgs',\n",
              "                                                           tol=0.0001,\n",
              "                                                           verbose=0,\n",
              "                                                           warm_start=False))],\n",
              "                                verbose=False),\n",
              "             iid='deprecated', n_jobs=-1,\n",
              "             param_grid={'tfidf__max_df': array([0.3, 0.5, 0.7]),\n",
              "                         'tfidf__min_df': array([ 5, 50, 95]),\n",
              "                         'tfidf__ngram_range': [(1, 1), (1, 2), (1, 3)]},\n",
              "             pre_dispatch='2*n_jobs', refit=True, return_train_score=False,\n",
              "             scoring='f1_macro', verbose=0)"
            ]
          },
          "metadata": {
            "tags": []
          },
          "execution_count": 123
        }
      ]
    },
    {
      "cell_type": "code",
      "metadata": {
        "colab": {
          "base_uri": "https://localhost:8080/"
        },
        "id": "f1-Jt3MCaQSr",
        "outputId": "4da9ee64-83d6-4e02-a5de-56200bdd77d3"
      },
      "source": [
        "print(pipe_clf.best_params_)"
      ],
      "execution_count": 124,
      "outputs": [
        {
          "output_type": "stream",
          "text": [
            "{'tfidf__max_df': 0.3, 'tfidf__min_df': 5, 'tfidf__ngram_range': (1, 2)}\n"
          ],
          "name": "stdout"
        }
      ]
    },
    {
      "cell_type": "code",
      "metadata": {
        "colab": {
          "base_uri": "https://localhost:8080/"
        },
        "id": "PF0_DWLXadwW",
        "outputId": "06e5a7f3-d242-4604-c20f-82f7eed6ee3c"
      },
      "source": [
        "%%time\n",
        "# feature creation and modelling in a single function\n",
        "pipe = Pipeline([(\"tfidf\", TfidfVectorizer()), (\"logreg\", LogisticRegression(class_weight='balanced'))])\n",
        "\n",
        "# define parameter space to test # runtime 19min\n",
        "params = {\n",
        "    \"tfidf__ngram_range\": [(1, 2)],\n",
        "    \"tfidf__max_df\": [0.3],\n",
        "    \"tfidf__min_df\": [5],\n",
        "    \"logreg__C\": [0.001, 0.1, 1, 10]\n",
        "}\n",
        "pipe_logreg_clf = GridSearchCV(pipe, params, n_jobs=-1, scoring=\"f1_macro\")\n",
        "pipe_logreg_clf.fit(X_train, Y_train)\n",
        "#pickle.dump(pipe_logreg_clf, open(\"/content/Model1.pkl\", \"wb\"))"
      ],
      "execution_count": 125,
      "outputs": [
        {
          "output_type": "stream",
          "text": [
            "CPU times: user 615 ms, sys: 28.2 ms, total: 643 ms\n",
            "Wall time: 6.24 s\n"
          ],
          "name": "stdout"
        }
      ]
    },
    {
      "cell_type": "code",
      "metadata": {
        "colab": {
          "base_uri": "https://localhost:8080/"
        },
        "id": "PnJwY9UkbLqn",
        "outputId": "9d8a64e0-4b60-4694-cba2-98b75c9d1610"
      },
      "source": [
        "best_params = pipe_logreg_clf.best_params_\n",
        "print(best_params)"
      ],
      "execution_count": 126,
      "outputs": [
        {
          "output_type": "stream",
          "text": [
            "{'logreg__C': 1, 'tfidf__max_df': 0.3, 'tfidf__min_df': 5, 'tfidf__ngram_range': (1, 2)}\n"
          ],
          "name": "stdout"
        }
      ]
    },
    {
      "cell_type": "code",
      "metadata": {
        "colab": {
          "base_uri": "https://localhost:8080/"
        },
        "id": "iu1UO58mbTYE",
        "outputId": "a5735f7c-5e78-4c56-94a5-44c6db6a30b7"
      },
      "source": [
        "# run pipe with optimized parameters\n",
        "pipe.set_params(**best_params).fit(X_train, Y_train)\n",
        "pipe_pred = pipe.predict(X_test)\n",
        "report = sklearn.metrics.classification_report(Y_test, pipe_pred)\n",
        "conf_mat = confusion_matrix(Y_test, pipe_pred)\n",
        "print(report)\n",
        "#print(conf_mat)"
      ],
      "execution_count": 127,
      "outputs": [
        {
          "output_type": "stream",
          "text": [
            "              precision    recall  f1-score   support\n",
            "\n",
            "           0       0.79      0.83      0.81       781\n",
            "           1       0.84      0.80      0.82       894\n",
            "\n",
            "    accuracy                           0.82      1675\n",
            "   macro avg       0.82      0.82      0.82      1675\n",
            "weighted avg       0.82      0.82      0.82      1675\n",
            "\n",
            "[[649 132]\n",
            " [177 717]]\n"
          ],
          "name": "stdout"
        }
      ]
    },
    {
      "cell_type": "markdown",
      "metadata": {
        "id": "Uri18ex4Qg6f"
      },
      "source": [
        "#### Store the model "
      ]
    },
    {
      "cell_type": "code",
      "metadata": {
        "id": "OdM2Bef783-m"
      },
      "source": [
        "pickle.dump(pipe, open(\"/content/Model1.pkl\", \"wb\"))"
      ],
      "execution_count": 129,
      "outputs": []
    }
  ]
}