{
  "nbformat": 4,
  "nbformat_minor": 0,
  "metadata": {
    "colab": {
      "name": "Ticket_Assignment_Model_Part2.ipynb",
      "provenance": [],
      "collapsed_sections": [],
      "toc_visible": true
    },
    "kernelspec": {
      "name": "python3",
      "display_name": "Python 3"
    },
    "language_info": {
      "name": "python"
    }
  },
  "cells": [
    {
      "cell_type": "code",
      "metadata": {
        "id": "ppPzvwOVNSeg"
      },
      "source": [
        "import pandas as pd\n",
        "import matplotlib.pyplot as plt\n",
        "import re\n",
        "import time\n",
        "import warnings\n",
        "import numpy as np\n",
        "from nltk.corpus import stopwords\n",
        "from sklearn.decomposition import TruncatedSVD\n",
        "from sklearn.preprocessing import normalize\n",
        "from sklearn.feature_extraction.text import CountVectorizer\n",
        "from sklearn.manifold import TSNE\n",
        "import seaborn as sns\n",
        "from sklearn.neighbors import KNeighborsClassifier\n",
        "from sklearn.metrics import confusion_matrix\n",
        "from sklearn.metrics.classification import accuracy_score, log_loss\n",
        "from sklearn.feature_extraction.text import TfidfVectorizer\n",
        "from sklearn.linear_model import SGDClassifier\n",
        "from imblearn.over_sampling import SMOTE\n",
        "from collections import Counter\n",
        "from scipy.sparse import hstack\n",
        "from sklearn.multiclass import OneVsRestClassifier\n",
        "from sklearn.svm import SVC\n",
        "#from sklearn.cross_validation import StratifiedKFold \n",
        "from collections import Counter, defaultdict\n",
        "from sklearn.calibration import CalibratedClassifierCV\n",
        "from sklearn.naive_bayes import MultinomialNB\n",
        "from sklearn.naive_bayes import GaussianNB\n",
        "from sklearn.model_selection import train_test_split\n",
        "from sklearn.model_selection import GridSearchCV\n",
        "import math\n",
        "from sklearn.metrics import normalized_mutual_info_score\n",
        "from sklearn.ensemble import RandomForestClassifier\n",
        "warnings.filterwarnings(\"ignore\")\n",
        "\n",
        "from mlxtend.classifier import StackingClassifier\n",
        "\n",
        "from sklearn import model_selection\n",
        "from sklearn.linear_model import LogisticRegression\n",
        "import pickle\n"
      ],
      "execution_count": null,
      "outputs": []
    },
    {
      "cell_type": "code",
      "metadata": {
        "id": "DVCN3p3uNhTX"
      },
      "source": [
        "# Load the preprocessed data\n",
        "file = open('/content/data_clean', 'rb')\n",
        "data = pickle.load(file)"
      ],
      "execution_count": null,
      "outputs": []
    },
    {
      "cell_type": "code",
      "metadata": {
        "colab": {
          "base_uri": "https://localhost:8080/",
          "height": 195
        },
        "id": "Y4aQHQyoOHY2",
        "outputId": "90a78796-9588-4bff-ebde-2442dde3f7c1"
      },
      "source": [
        "data.head()"
      ],
      "execution_count": null,
      "outputs": [
        {
          "output_type": "execute_result",
          "data": {
            "text/html": [
              "<div>\n",
              "<style scoped>\n",
              "    .dataframe tbody tr th:only-of-type {\n",
              "        vertical-align: middle;\n",
              "    }\n",
              "\n",
              "    .dataframe tbody tr th {\n",
              "        vertical-align: top;\n",
              "    }\n",
              "\n",
              "    .dataframe thead th {\n",
              "        text-align: right;\n",
              "    }\n",
              "</style>\n",
              "<table border=\"1\" class=\"dataframe\">\n",
              "  <thead>\n",
              "    <tr style=\"text-align: right;\">\n",
              "      <th></th>\n",
              "      <th>Description</th>\n",
              "      <th>Caller</th>\n",
              "      <th>Assignment group</th>\n",
              "    </tr>\n",
              "  </thead>\n",
              "  <tbody>\n",
              "    <tr>\n",
              "      <th>0</th>\n",
              "      <td>verified user detail employee manager name che...</td>\n",
              "      <td>spxjnwir pjlcoqds</td>\n",
              "      <td>GRP_0</td>\n",
              "    </tr>\n",
              "    <tr>\n",
              "      <th>1</th>\n",
              "      <td>gmail team meeting skype etc appearing outlook...</td>\n",
              "      <td>hmjdrvpb komuaywn</td>\n",
              "      <td>GRP_0</td>\n",
              "    </tr>\n",
              "    <tr>\n",
              "      <th>2</th>\n",
              "      <td>gmail can not log vpn best cant</td>\n",
              "      <td>eylqgodm ybqkwiam</td>\n",
              "      <td>GRP_0</td>\n",
              "    </tr>\n",
              "    <tr>\n",
              "      <th>3</th>\n",
              "      <td>unable access hr tool page</td>\n",
              "      <td>xbkucsvz gcpydteq</td>\n",
              "      <td>GRP_0</td>\n",
              "    </tr>\n",
              "    <tr>\n",
              "      <th>4</th>\n",
              "      <td>skype error</td>\n",
              "      <td>owlgqjme qhcozdfx</td>\n",
              "      <td>GRP_0</td>\n",
              "    </tr>\n",
              "  </tbody>\n",
              "</table>\n",
              "</div>"
            ],
            "text/plain": [
              "                                         Description  ... Assignment group\n",
              "0  verified user detail employee manager name che...  ...            GRP_0\n",
              "1  gmail team meeting skype etc appearing outlook...  ...            GRP_0\n",
              "2                    gmail can not log vpn best cant  ...            GRP_0\n",
              "3                         unable access hr tool page  ...            GRP_0\n",
              "4                                        skype error  ...            GRP_0\n",
              "\n",
              "[5 rows x 3 columns]"
            ]
          },
          "metadata": {
            "tags": []
          },
          "execution_count": 24
        }
      ]
    },
    {
      "cell_type": "code",
      "metadata": {
        "id": "0TYLM7uLgq-V"
      },
      "source": [
        "# exclude GRP0\n",
        "data = data[data['Assignment group'] != 'GRP_0']"
      ],
      "execution_count": null,
      "outputs": []
    },
    {
      "cell_type": "code",
      "metadata": {
        "colab": {
          "base_uri": "https://localhost:8080/"
        },
        "id": "3DUFFtDHguku",
        "outputId": "445a7617-bd63-4e7e-8173-1a5d70781b1f"
      },
      "source": [
        "len(data['Assignment group'].value_counts())"
      ],
      "execution_count": null,
      "outputs": [
        {
          "output_type": "execute_result",
          "data": {
            "text/plain": [
              "49"
            ]
          },
          "metadata": {
            "tags": []
          },
          "execution_count": 26
        }
      ]
    },
    {
      "cell_type": "code",
      "metadata": {
        "colab": {
          "base_uri": "https://localhost:8080/"
        },
        "id": "ksSC01-HUts2",
        "outputId": "3e92688b-54bb-4019-fa79-e27891398695"
      },
      "source": [
        "from sklearn import preprocessing\n",
        "label_encoder = preprocessing.LabelEncoder()\n",
        "data['Assignment group'] = label_encoder.fit_transform(data['Assignment group'])\n",
        "  \n",
        "data['Assignment group'].unique()"
      ],
      "execution_count": null,
      "outputs": [
        {
          "output_type": "execute_result",
          "data": {
            "text/plain": [
              "array([ 0, 22, 30, 38, 41, 45, 46,  1, 47,  2,  3,  5,  6,  7,  8,  9, 10,\n",
              "       11, 12, 13, 14, 15, 16, 17,  4, 18, 19, 20, 21, 23, 24, 25, 26, 48,\n",
              "       27, 28, 29, 31, 32, 33, 34, 35, 36, 37, 39, 40, 42, 43, 44])"
            ]
          },
          "metadata": {
            "tags": []
          },
          "execution_count": 27
        }
      ]
    },
    {
      "cell_type": "code",
      "metadata": {
        "id": "psz0eg0xOOXx"
      },
      "source": [
        "Y = data['Assignment group'].values\n",
        "\n",
        "# split the data into test and train by maintaining same distribution of output varaible 'y_true' [stratify=y_true]\n",
        "X_train, test_df, y_train, y_test = train_test_split(data, Y, stratify=Y, test_size=0.2)\n",
        "# split the train data into train and cross validation by maintaining same distribution of output varaible 'y_train' [stratify=y_train]\n",
        "train_df, cv_df, y_train, y_cv = train_test_split(X_train, y_train, stratify=y_train, test_size=0.2)"
      ],
      "execution_count": null,
      "outputs": []
    },
    {
      "cell_type": "code",
      "metadata": {
        "colab": {
          "base_uri": "https://localhost:8080/"
        },
        "id": "QtLysNoZPIua",
        "outputId": "bdde86d8-6b1c-423f-dee2-6112b4ec598c"
      },
      "source": [
        "print('Number of data points in train data:', train_df.shape[0])\n",
        "print('Number of data points in test data:', test_df.shape[0])\n",
        "print('Number of data points in cross validation data:', cv_df.shape[0])"
      ],
      "execution_count": null,
      "outputs": [
        {
          "output_type": "stream",
          "text": [
            "Number of data points in train data: 2288\n",
            "Number of data points in test data: 716\n",
            "Number of data points in cross validation data: 573\n"
          ],
          "name": "stdout"
        }
      ]
    },
    {
      "cell_type": "code",
      "metadata": {
        "colab": {
          "base_uri": "https://localhost:8080/",
          "height": 926
        },
        "id": "T5FUrVw_Pbqp",
        "outputId": "1aa433b2-60fb-4721-bdde-f1134e97b3ce"
      },
      "source": [
        "# it returns a dict, keys as class labels and values as the number of data points in that class\n",
        "train_class_distribution = train_df['Assignment group'].value_counts().sort_values()\n",
        "test_class_distribution = test_df['Assignment group'].value_counts().sort_values()\n",
        "cv_class_distribution = cv_df['Assignment group'].value_counts().sort_values()\n",
        "\n",
        "my_colors = 'rgbkymc'\n",
        "plt.subplots(figsize=(22,5))\n",
        "train_class_distribution.plot(kind='bar')\n",
        "plt.xlabel('Class')\n",
        "plt.ylabel('Data points per Class')\n",
        "plt.title('Distribution of yi in train data')\n",
        "plt.grid()\n",
        "plt.show()\n",
        "\n",
        "# ref: argsort https://docs.scipy.org/doc/numpy/reference/generated/numpy.argsort.html\n",
        "# -(train_class_distribution.values): the minus sign will give us in decreasing order\n",
        "#sorted_yi = np.argsort(-train_class_distribution.values)\n",
        "#for i in sorted_yi:\n",
        "    #print('Number of data points in class', i+1, ':',train_class_distribution.values[i], '(', np.round((train_class_distribution.values[i]/train_df.shape[0]*100), 3), '%)')\n",
        "\n",
        "    \n",
        "print('-'*80)\n",
        "my_colors = 'rgbkymc'\n",
        "plt.subplots(figsize=(22,5))\n",
        "test_class_distribution.plot(kind='bar')\n",
        "plt.xlabel('Class')\n",
        "plt.ylabel('Data points per Class')\n",
        "plt.title('Distribution of yi in test data')\n",
        "plt.grid()\n",
        "plt.show()\n",
        "\n",
        "# ref: argsort https://docs.scipy.org/doc/numpy/reference/generated/numpy.argsort.html\n",
        "# -(train_class_distribution.values): the minus sign will give us in decreasing order\n",
        "#sorted_yi = np.argsort(-test_class_distribution.values)\n",
        "#for i in sorted_yi:\n",
        "#    print('Number of data points in class', i+1, ':',test_class_distribution.values[i], '(', np.round((test_class_distribution.values[i]/test_df.shape[0]*100), 3), '%)')\n",
        "\n",
        "print('-'*80)\n",
        "plt.subplots(figsize=(22,5))\n",
        "my_colors = 'rgbkymc'\n",
        "cv_class_distribution.plot(kind='bar')\n",
        "plt.xlabel('Class')\n",
        "plt.ylabel('Data points per Class')\n",
        "plt.title('Distribution of yi in cross validation data')\n",
        "plt.grid()\n",
        "plt.show()\n",
        "\n",
        "# ref: argsort https://docs.scipy.org/doc/numpy/reference/generated/numpy.argsort.html\n",
        "# -(train_class_distribution.values): the minus sign will give us in decreasing order\n",
        "#sorted_yi = np.argsort(-train_class_distribution.values)\n",
        "#for i in sorted_yi:\n",
        "    #print('Number of data points in class', i+1, ':',cv_class_distribution.values[i], '(', np.round((cv_class_distribution.values[i]/cv_df.shape[0]*100), 3), '%)')"
      ],
      "execution_count": null,
      "outputs": [
        {
          "output_type": "display_data",
          "data": {
            "image/png": "[encoded data removed]",
            "text/plain": [
              "<Figure size 1584x360 with 1 Axes>"
            ]
          },
          "metadata": {
            "tags": [],
            "needs_background": "light"
          }
        },
        {
          "output_type": "stream",
          "text": [
            "--------------------------------------------------------------------------------\n"
          ],
          "name": "stdout"
        },
        {
          "output_type": "display_data",
          "data": {
            "image/png": "[encoded data removed]",
            "text/plain": [
              "<Figure size 1584x360 with 1 Axes>"
            ]
          },
          "metadata": {
            "tags": [],
            "needs_background": "light"
          }
        },
        {
          "output_type": "stream",
          "text": [
            "--------------------------------------------------------------------------------\n"
          ],
          "name": "stdout"
        },
        {
          "output_type": "display_data",
          "data": {
            "image/png": "[encoded data removed]",
            "text/plain": [
              "<Figure size 1584x360 with 1 Axes>"
            ]
          },
          "metadata": {
            "tags": [],
            "needs_background": "light"
          }
        }
      ]
    },
    {
      "cell_type": "code",
      "metadata": {
        "colab": {
          "base_uri": "https://localhost:8080/"
        },
        "id": "tZ5KYPV4hSqK",
        "outputId": "56f27ccc-ae79-4cbe-a819-34ff8ad65b37"
      },
      "source": [
        "maxOthers = X_train['Assignment group'].value_counts().max()\n",
        "maxOthers"
      ],
      "execution_count": null,
      "outputs": [
        {
          "output_type": "execute_result",
          "data": {
            "text/plain": [
              "245"
            ]
          },
          "metadata": {
            "tags": []
          },
          "execution_count": 31
        }
      ]
    },
    {
      "cell_type": "code",
      "metadata": {
        "colab": {
          "base_uri": "https://localhost:8080/",
          "height": 266
        },
        "id": "Hd8buUUahk7W",
        "outputId": "45f679e7-c066-4310-a06a-bf11f0a59890"
      },
      "source": [
        "from sklearn.utils import resample\n",
        "data_resampled = X_train[0:0] #Copy columns\n",
        "\n",
        "for grp in X_train['Assignment group'].unique():\n",
        "  grp_data = X_train[X_train['Assignment group'] == grp]\n",
        "  resampled = resample(grp_data, replace=True, n_samples=int(maxOthers/2), random_state=123)\n",
        "  data_resampled = data_resampled.append(resampled)\n",
        "\n",
        "descending_order = data_resampled['Assignment group'].value_counts().sort_values(ascending=False).index\n",
        "plt.subplots(figsize=(22,5))\n",
        "#add code to rotate the labels\n",
        "ax=sns.countplot(x='Assignment group', data=data_resampled, color='royalblue')\n",
        "ax.set_xticklabels(ax.get_xticklabels(), rotation=45, ha=\"right\")\n",
        "plt.tight_layout()\n",
        "plt.show()"
      ],
      "execution_count": null,
      "outputs": [
        {
          "output_type": "display_data",
          "data": {
            "image/png": "[encoded data removed]",
            "text/plain": [
              "<Figure size 1584x360 with 1 Axes>"
            ]
          },
          "metadata": {
            "tags": [],
            "needs_background": "light"
          }
        }
      ]
    },
    {
      "cell_type": "markdown",
      "metadata": {
        "id": "ZKKNq-S-R-Bw"
      },
      "source": [
        "### Prediction using Random model"
      ]
    },
    {
      "cell_type": "code",
      "metadata": {
        "colab": {
          "base_uri": "https://localhost:8080/"
        },
        "id": "6N3v8bzbRSSd",
        "outputId": "a4f44251-d79f-46c8-d9c0-54724dc105f9"
      },
      "source": [
        "# we need to generate 49 numbers and the sum of numbers should be 1\n",
        "# one solution is to genarate 9 numbers and divide each of the numbers by their sum\n",
        "# ref: https://stackoverflow.com/a/18662466/4084039\n",
        "test_data_len = test_df.shape[0]\n",
        "cv_data_len = cv_df.shape[0]\n",
        "\n",
        "# we create a output array that has exactly same size as the CV data\n",
        "cv_predicted_y = np.zeros((cv_data_len,49))\n",
        "for i in range(cv_data_len):\n",
        "    rand_probs = np.random.rand(1,49)\n",
        "    cv_predicted_y[i] = ((rand_probs/sum(sum(rand_probs)))[0])\n",
        "print(\"Log loss on Cross Validation Data using Random Model\",log_loss(y_cv,cv_predicted_y, eps=1e-15))\n",
        "\n",
        "\n",
        "# Test-Set error.\n",
        "#we create a output array that has exactly same as the test data\n",
        "test_predicted_y = np.zeros((test_data_len,49))\n",
        "for i in range(test_data_len):\n",
        "    rand_probs = np.random.rand(1,49)\n",
        "    test_predicted_y[i] = ((rand_probs/sum(sum(rand_probs)))[0])\n",
        "print(\"Log loss on Test Data using Random Model\",log_loss(y_test,test_predicted_y, eps=1e-15))\n",
        "\n",
        "#predicted_y =np.argmax(test_predicted_y, axis=1)\n",
        "#plot_confusion_matrix(y_test, predicted_y+1)"
      ],
      "execution_count": null,
      "outputs": [
        {
          "output_type": "stream",
          "text": [
            "Log loss on Cross Validation Data using Random Model 4.191822123895184\n",
            "Log loss on Test Data using Random Model 4.205181131789915\n"
          ],
          "name": "stdout"
        }
      ]
    },
    {
      "cell_type": "markdown",
      "metadata": {
        "id": "-nAt7gZ4S1PJ"
      },
      "source": [
        "### Vectorizing Text feature"
      ]
    },
    {
      "cell_type": "markdown",
      "metadata": {
        "id": "reslzv47Szty"
      },
      "source": [
        "1. How many unique words are present in train data?\n",
        "2. How are word frequencies distributed?\n",
        "3. How to featurize text field?\n",
        "4. Is the text feature useful in predicitng y_i?\n",
        "5. Is the text feature stable across train, test and CV datasets?"
      ]
    },
    {
      "cell_type": "code",
      "metadata": {
        "id": "osYM-dVoS9qS"
      },
      "source": [
        "# cls_text is a data frame\n",
        "# for every row in data fram consider the 'TEXT'\n",
        "# split the words by space\n",
        "# make a dict with those words\n",
        "# increment its count whenever we see that word\n",
        "\n",
        "def extract_dictionary_paddle(cls_text):\n",
        "    dictionary = defaultdict(int)\n",
        "    for index, row in cls_text.iterrows():\n",
        "        for word in row['Description'].split():\n",
        "            dictionary[word] +=1\n",
        "    return dictionary"
      ],
      "execution_count": null,
      "outputs": []
    },
    {
      "cell_type": "code",
      "metadata": {
        "id": "F33t0NslTK2C"
      },
      "source": [
        "import math\n",
        "#https://stackoverflow.com/a/1602964\n",
        "def get_text_responsecoding(df):\n",
        "    text_feature_responseCoding = np.zeros((df.shape[0],50))\n",
        "    for i in range(0,):\n",
        "        row_index = 0\n",
        "        for index, row in df.iterrows():\n",
        "            sum_prob = 0\n",
        "            for word in row['Description'].split():\n",
        "                sum_prob += math.log(((dict_list[i].get(word,0)+10 )/(total_dict.get(word,0)+90)))\n",
        "            text_feature_responseCoding[row_index][i] = math.exp(sum_prob/len(row['Description'].split()))\n",
        "            row_index += 1\n",
        "    return text_feature_responseCoding"
      ],
      "execution_count": null,
      "outputs": []
    },
    {
      "cell_type": "code",
      "metadata": {
        "colab": {
          "base_uri": "https://localhost:8080/"
        },
        "id": "5Vg3SqI3TS0Z",
        "outputId": "91fb5572-b2ea-4ac9-de01-854a1d5c5197"
      },
      "source": [
        "# building a CountVectorizer with all the words that occured minimum 3 times in train data\n",
        "text_vectorizer = CountVectorizer(min_df=3)\n",
        "train_text_feature_onehotCoding = text_vectorizer.fit_transform(train_df['Description'])\n",
        "# getting all the feature names (words)\n",
        "train_text_features= text_vectorizer.get_feature_names()\n",
        "\n",
        "# train_text_feature_onehotCoding.sum(axis=0).A1 will sum every row and returns (1*number of features) vector\n",
        "train_text_fea_counts = train_text_feature_onehotCoding.sum(axis=0).A1\n",
        "\n",
        "# zip(list(text_features),text_fea_counts) will zip a word with its number of times it occured\n",
        "text_fea_dict = dict(zip(list(train_text_features),train_text_fea_counts))\n",
        "\n",
        "\n",
        "print(\"Total number of unique words in train data :\", len(train_text_features))"
      ],
      "execution_count": null,
      "outputs": [
        {
          "output_type": "stream",
          "text": [
            "Total number of unique words in train data : 2086\n"
          ],
          "name": "stdout"
        }
      ]
    },
    {
      "cell_type": "code",
      "metadata": {
        "id": "LnoiX4ATTnec"
      },
      "source": [
        "dict_list = []\n",
        "# dict_list =[] contains 50 dictoinaries each corresponds to a class\n",
        "for i in range(0,49):\n",
        "    cls_text = train_df[train_df['Assignment group']==i]\n",
        "    # build a word dict based on the words in that class\n",
        "    dict_list.append(extract_dictionary_paddle(cls_text))\n",
        "    # append it to dict_list\n",
        "\n",
        "# dict_list[i] is build on i'th  class text data\n",
        "# total_dict is buid on whole training text data\n",
        "total_dict = extract_dictionary_paddle(train_df)\n",
        "\n",
        "\n",
        "confuse_array = []\n",
        "for i in train_text_features:\n",
        "    ratios = []\n",
        "    max_val = -1\n",
        "    for j in range(0,49):\n",
        "        ratios.append((dict_list[j][i]+10 )/(total_dict[i]+90))\n",
        "    confuse_array.append(ratios)\n",
        "confuse_array = np.array(confuse_array)"
      ],
      "execution_count": null,
      "outputs": []
    },
    {
      "cell_type": "code",
      "metadata": {
        "id": "WKSIv5GdV6g-"
      },
      "source": [
        "#response coding of text features\n",
        "train_text_feature_responseCoding  = get_text_responsecoding(train_df)\n",
        "test_text_feature_responseCoding  = get_text_responsecoding(test_df)\n",
        "cv_text_feature_responseCoding  = get_text_responsecoding(cv_df)"
      ],
      "execution_count": null,
      "outputs": []
    },
    {
      "cell_type": "code",
      "metadata": {
        "id": "N2gqKvl0WAzw"
      },
      "source": [
        "# https://stackoverflow.com/a/16202486\n",
        "# we convert each row values such that they sum to 1  \n",
        "train_text_feature_responseCoding = (train_text_feature_responseCoding.T/train_text_feature_responseCoding.sum(axis=1)).T\n",
        "test_text_feature_responseCoding = (test_text_feature_responseCoding.T/test_text_feature_responseCoding.sum(axis=1)).T\n",
        "cv_text_feature_responseCoding = (cv_text_feature_responseCoding.T/cv_text_feature_responseCoding.sum(axis=1)).T"
      ],
      "execution_count": null,
      "outputs": []
    },
    {
      "cell_type": "code",
      "metadata": {
        "id": "nXzxTDeCWKZL"
      },
      "source": [
        "# don't forget to normalize every feature\n",
        "train_text_feature_onehotCoding = normalize(train_text_feature_onehotCoding, axis=0)\n",
        "\n",
        "# we use the same vectorizer that was trained on train data\n",
        "test_text_feature_onehotCoding = text_vectorizer.transform(test_df['Description'])\n",
        "# don't forget to normalize every feature\n",
        "test_text_feature_onehotCoding = normalize(test_text_feature_onehotCoding, axis=0)\n",
        "\n",
        "# we use the same vectorizer that was trained on train data\n",
        "cv_text_feature_onehotCoding = text_vectorizer.transform(cv_df['Description'])\n",
        "# don't forget to normalize every feature\n",
        "cv_text_feature_onehotCoding = normalize(cv_text_feature_onehotCoding, axis=0)"
      ],
      "execution_count": null,
      "outputs": []
    },
    {
      "cell_type": "code",
      "metadata": {
        "colab": {
          "base_uri": "https://localhost:8080/",
          "height": 446
        },
        "id": "Tz9ZL8jQWj6C",
        "outputId": "c83cefcd-b5c1-4bd8-8dfd-23df6a7ae9ea"
      },
      "source": [
        "# Train a Logistic regression+Calibration model using text features whicha re on-hot encoded\n",
        "alpha = [10 ** x for x in range(-5, 1)]\n",
        "\n",
        "cv_log_error_array=[]\n",
        "for i in alpha:\n",
        "    clf = SGDClassifier(alpha=i, penalty='l2', loss='log', random_state=42)\n",
        "    clf.fit(train_text_feature_onehotCoding, y_train)\n",
        "    \n",
        "    sig_clf = CalibratedClassifierCV(clf, method=\"sigmoid\")\n",
        "    sig_clf.fit(train_text_feature_onehotCoding, y_train)\n",
        "    predict_y = sig_clf.predict_proba(cv_text_feature_onehotCoding)\n",
        "    cv_log_error_array.append(log_loss(y_cv, predict_y, labels=clf.classes_, eps=1e-15))\n",
        "    print('For values of alpha = ', i, \"The log loss is:\",log_loss(y_cv, predict_y, labels=clf.classes_, eps=1e-15))\n",
        "\n",
        "fig, ax = plt.subplots()\n",
        "ax.plot(alpha, cv_log_error_array,c='g')\n",
        "for i, txt in enumerate(np.round(cv_log_error_array,3)):\n",
        "    ax.annotate((alpha[i],np.round(txt,3)), (alpha[i],cv_log_error_array[i]))\n",
        "plt.grid()\n",
        "plt.title(\"Cross Validation Error for each alpha\")\n",
        "plt.xlabel(\"Alpha i's\")\n",
        "plt.ylabel(\"Error measure\")\n",
        "plt.show()\n",
        "\n",
        "\n",
        "best_alpha = np.argmin(cv_log_error_array)\n",
        "clf = SGDClassifier(alpha=alpha[best_alpha], penalty='l2', loss='log', random_state=42)\n",
        "clf.fit(train_text_feature_onehotCoding, y_train)\n",
        "sig_clf = CalibratedClassifierCV(clf, method=\"sigmoid\")\n",
        "sig_clf.fit(train_text_feature_onehotCoding, y_train)\n",
        "\n",
        "predict_y = sig_clf.predict_proba(train_text_feature_onehotCoding)\n",
        "print('For values of best alpha = ', alpha[best_alpha], \"The train log loss is:\",log_loss(y_train, predict_y, labels=clf.classes_, eps=1e-15))\n",
        "predict_y = sig_clf.predict_proba(cv_text_feature_onehotCoding)\n",
        "print('For values of best alpha = ', alpha[best_alpha], \"The cross validation log loss is:\",log_loss(y_cv, predict_y, labels=clf.classes_, eps=1e-15))\n",
        "predict_y = sig_clf.predict_proba(test_text_feature_onehotCoding)\n",
        "print('For values of best alpha = ', alpha[best_alpha], \"The test log loss is:\",log_loss(y_test, predict_y, labels=clf.classes_, eps=1e-15))"
      ],
      "execution_count": null,
      "outputs": [
        {
          "output_type": "stream",
          "text": [
            "For values of alpha =  1e-05 The log loss is: 1.8911246466309513\n",
            "For values of alpha =  0.0001 The log loss is: 1.8448996159804467\n",
            "For values of alpha =  0.001 The log loss is: 2.0180084774962643\n",
            "For values of alpha =  0.01 The log loss is: 2.8170591472010624\n",
            "For values of alpha =  0.1 The log loss is: 3.2021444914938053\n",
            "For values of alpha =  1 The log loss is: 3.2470691050339657\n"
          ],
          "name": "stdout"
        },
        {
          "output_type": "display_data",
          "data": {
            "image/png": "[encoded data removed]",
            "text/plain": [
              "<Figure size 432x288 with 1 Axes>"
            ]
          },
          "metadata": {
            "tags": [],
            "needs_background": "light"
          }
        },
        {
          "output_type": "stream",
          "text": [
            "For values of best alpha =  0.0001 The train log loss is: 0.9062188907545695\n",
            "For values of best alpha =  0.0001 The cross validation log loss is: 1.8448996159804467\n",
            "For values of best alpha =  0.0001 The test log loss is: 1.8082882499835307\n"
          ],
          "name": "stdout"
        }
      ]
    },
    {
      "cell_type": "code",
      "metadata": {
        "id": "SpZUGigyZlDB"
      },
      "source": [
        "train_y = np.array(list(train_df['Assignment group']))\n",
        "test_y = np.array(list(test_df['Assignment group']))\n",
        "cv_y = np.array(list(cv_df['Assignment group']))"
      ],
      "execution_count": null,
      "outputs": []
    },
    {
      "cell_type": "markdown",
      "metadata": {
        "id": "Np2av7FGYIZb"
      },
      "source": [
        "### Baseline Model"
      ]
    },
    {
      "cell_type": "markdown",
      "metadata": {
        "id": "xqy2LJRmYOvC"
      },
      "source": [
        "#### Naive Bayes"
      ]
    },
    {
      "cell_type": "markdown",
      "metadata": {
        "id": "6AT-5t2LYP_G"
      },
      "source": [
        "##### Hyper parameter tuning"
      ]
    },
    {
      "cell_type": "code",
      "metadata": {
        "colab": {
          "base_uri": "https://localhost:8080/",
          "height": 614
        },
        "id": "DM4X1b09YLSG",
        "outputId": "adc41d61-bc22-4e49-e160-da93726bcc5a"
      },
      "source": [
        "\n",
        "alpha = [0.00001, 0.0001, 0.001, 0.1, 1, 10, 100,1000]\n",
        "cv_log_error_array = []\n",
        "for i in alpha:\n",
        "    print(\"for alpha =\", i)\n",
        "    clf = MultinomialNB(alpha=i)\n",
        "    clf.fit(train_text_feature_onehotCoding, train_y)\n",
        "    sig_clf = CalibratedClassifierCV(clf, method=\"sigmoid\")\n",
        "    sig_clf.fit(train_text_feature_onehotCoding, train_y)\n",
        "    sig_clf_probs = sig_clf.predict_proba(cv_text_feature_onehotCoding)\n",
        "    cv_log_error_array.append(log_loss(cv_y, sig_clf_probs, labels=clf.classes_, eps=1e-15))\n",
        "    # to avoid rounding error while multiplying probabilites we use log-probability estimates\n",
        "    print(\"Log Loss :\",log_loss(cv_y, sig_clf_probs)) \n",
        "\n",
        "fig, ax = plt.subplots()\n",
        "ax.plot(np.log10(alpha), cv_log_error_array,c='g')\n",
        "for i, txt in enumerate(np.round(cv_log_error_array,3)):\n",
        "    ax.annotate((alpha[i],str(txt)), (np.log10(alpha[i]),cv_log_error_array[i]))\n",
        "plt.grid()\n",
        "plt.xticks(np.log10(alpha))\n",
        "plt.title(\"Cross Validation Error for each alpha\")\n",
        "plt.xlabel(\"Alpha i's\")\n",
        "plt.ylabel(\"Error measure\")\n",
        "plt.show()\n",
        "\n",
        "\n",
        "best_alpha = np.argmin(cv_log_error_array)\n",
        "clf = MultinomialNB(alpha=alpha[best_alpha])\n",
        "clf.fit(train_text_feature_onehotCoding, train_y)\n",
        "sig_clf = CalibratedClassifierCV(clf, method=\"sigmoid\")\n",
        "sig_clf.fit(train_text_feature_onehotCoding, train_y)\n",
        "\n",
        "\n",
        "predict_y = sig_clf.predict_proba(train_text_feature_onehotCoding)\n",
        "print('For values of best alpha = ', alpha[best_alpha], \"The train log loss is:\",log_loss(y_train, predict_y, labels=clf.classes_, eps=1e-15))\n",
        "predict_y = sig_clf.predict_proba(cv_text_feature_onehotCoding)\n",
        "print('For values of best alpha = ', alpha[best_alpha], \"The cross validation log loss is:\",log_loss(y_cv, predict_y, labels=clf.classes_, eps=1e-15))\n",
        "predict_y = sig_clf.predict_proba(test_text_feature_onehotCoding)\n",
        "print('For values of best alpha = ', alpha[best_alpha], \"The test log loss is:\",log_loss(y_test, predict_y, labels=clf.classes_, eps=1e-15))"
      ],
      "execution_count": null,
      "outputs": [
        {
          "output_type": "stream",
          "text": [
            "for alpha = 1e-05\n",
            "Log Loss : 2.482753769978142\n",
            "for alpha = 0.0001\n",
            "Log Loss : 2.4403159293562764\n",
            "for alpha = 0.001\n",
            "Log Loss : 2.3839380806701453\n",
            "for alpha = 0.1\n",
            "Log Loss : 2.2376466389615106\n",
            "for alpha = 1\n",
            "Log Loss : 2.162225487208957\n",
            "for alpha = 10\n",
            "Log Loss : 2.2092305760040314\n",
            "for alpha = 100\n",
            "Log Loss : 2.1518290834314024\n",
            "for alpha = 1000\n",
            "Log Loss : 2.1608088061544515\n"
          ],
          "name": "stdout"
        },
        {
          "output_type": "display_data",
          "data": {
            "image/png": "[encoded data removed]",
            "text/plain": [
              "<Figure size 432x288 with 1 Axes>"
            ]
          },
          "metadata": {
            "tags": [],
            "needs_background": "light"
          }
        },
        {
          "output_type": "stream",
          "text": [
            "For values of best alpha =  100 The train log loss is: 1.6408062956308955\n",
            "For values of best alpha =  100 The cross validation log loss is: 2.1518290834314024\n",
            "For values of best alpha =  100 The test log loss is: 2.06918345201559\n"
          ],
          "name": "stdout"
        }
      ]
    },
    {
      "cell_type": "markdown",
      "metadata": {
        "id": "6HyoTxrlbDhe"
      },
      "source": [
        "##### Testing with best hyper parameter"
      ]
    },
    {
      "cell_type": "code",
      "metadata": {
        "colab": {
          "base_uri": "https://localhost:8080/"
        },
        "id": "7dP_JMBzbKir",
        "outputId": "4cb121cb-c6f6-40a5-90e9-b0d6da3454e6"
      },
      "source": [
        "clf = MultinomialNB(alpha=alpha[best_alpha])\n",
        "clf.fit(train_text_feature_onehotCoding, train_y)\n",
        "sig_clf = CalibratedClassifierCV(clf, method=\"sigmoid\")\n",
        "sig_clf.fit(train_text_feature_onehotCoding, train_y)\n",
        "sig_clf_probs = sig_clf.predict_proba(cv_text_feature_onehotCoding)\n",
        "# to avoid rounding error while multiplying probabilites we use log-probability estimates\n",
        "print(\"Log Loss :\",log_loss(cv_y, sig_clf_probs))\n",
        "print(\"Number of missclassified point :\", np.count_nonzero((sig_clf.predict(cv_text_feature_onehotCoding)- cv_y))/cv_y.shape[0])\n",
        "#plot_confusion_matrix(cv_y, sig_clf.predict(cv_text_feature_onehotCoding.toarray()))"
      ],
      "execution_count": null,
      "outputs": [
        {
          "output_type": "stream",
          "text": [
            "Log Loss : 2.1518290834314024\n",
            "Number of missclassified point : 0.5130890052356021\n"
          ],
          "name": "stdout"
        }
      ]
    },
    {
      "cell_type": "markdown",
      "metadata": {
        "id": "vTg3jyBGb0RX"
      },
      "source": [
        "#### KNN"
      ]
    },
    {
      "cell_type": "markdown",
      "metadata": {
        "id": "mq1Dqim3b4ON"
      },
      "source": [
        "##### Hyperparameter tuning"
      ]
    },
    {
      "cell_type": "code",
      "metadata": {
        "colab": {
          "base_uri": "https://localhost:8080/",
          "height": 614
        },
        "id": "iMRAvTYCb88T",
        "outputId": "75d04374-8953-4bc8-b942-63e849b075ec"
      },
      "source": [
        "alpha = [5, 11, 15, 21, 31, 41, 51, 99]\n",
        "cv_log_error_array = []\n",
        "for i in alpha:\n",
        "    print(\"for alpha =\", i)\n",
        "    clf = KNeighborsClassifier(n_neighbors=i)\n",
        "    clf.fit(train_text_feature_onehotCoding, train_y)\n",
        "    sig_clf = CalibratedClassifierCV(clf, method=\"sigmoid\")\n",
        "    sig_clf.fit(train_text_feature_onehotCoding, train_y)\n",
        "    sig_clf_probs = sig_clf.predict_proba(cv_text_feature_onehotCoding)\n",
        "    cv_log_error_array.append(log_loss(cv_y, sig_clf_probs, labels=clf.classes_, eps=1e-15))\n",
        "    # to avoid rounding error while multiplying probabilites we use log-probability estimates\n",
        "    print(\"Log Loss :\",log_loss(cv_y, sig_clf_probs)) \n",
        "\n",
        "fig, ax = plt.subplots()\n",
        "ax.plot(alpha, cv_log_error_array,c='g')\n",
        "for i, txt in enumerate(np.round(cv_log_error_array,3)):\n",
        "    ax.annotate((alpha[i],str(txt)), (alpha[i],cv_log_error_array[i]))\n",
        "plt.grid()\n",
        "plt.title(\"Cross Validation Error for each alpha\")\n",
        "plt.xlabel(\"Alpha i's\")\n",
        "plt.ylabel(\"Error measure\")\n",
        "plt.show()\n",
        "\n",
        "\n",
        "best_alpha = np.argmin(cv_log_error_array)\n",
        "clf = KNeighborsClassifier(n_neighbors=alpha[best_alpha])\n",
        "clf.fit(train_text_feature_onehotCoding, train_y)\n",
        "sig_clf = CalibratedClassifierCV(clf, method=\"sigmoid\")\n",
        "sig_clf.fit(train_text_feature_onehotCoding, train_y)\n",
        "\n",
        "predict_y = sig_clf.predict_proba(train_text_feature_onehotCoding)\n",
        "print('For values of best alpha = ', alpha[best_alpha], \"The train log loss is:\",log_loss(y_train, predict_y, labels=clf.classes_, eps=1e-15))\n",
        "predict_y = sig_clf.predict_proba(cv_text_feature_onehotCoding)\n",
        "print('For values of best alpha = ', alpha[best_alpha], \"The cross validation log loss is:\",log_loss(y_cv, predict_y, labels=clf.classes_, eps=1e-15))\n",
        "predict_y = sig_clf.predict_proba(test_text_feature_onehotCoding)\n",
        "print('For values of best alpha = ', alpha[best_alpha], \"The test log loss is:\",log_loss(y_test, predict_y, labels=clf.classes_, eps=1e-15))"
      ],
      "execution_count": null,
      "outputs": [
        {
          "output_type": "stream",
          "text": [
            "for alpha = 5\n",
            "Log Loss : 2.4717128675123394\n",
            "for alpha = 11\n",
            "Log Loss : 2.4411801400007245\n",
            "for alpha = 15\n",
            "Log Loss : 2.427747416287437\n",
            "for alpha = 21\n",
            "Log Loss : 2.4083408293321713\n",
            "for alpha = 31\n",
            "Log Loss : 2.4533664540712987\n",
            "for alpha = 41\n",
            "Log Loss : 2.480672825247597\n",
            "for alpha = 51\n",
            "Log Loss : 2.5036488305978075\n",
            "for alpha = 99\n",
            "Log Loss : 2.5096301284010467\n"
          ],
          "name": "stdout"
        },
        {
          "output_type": "display_data",
          "data": {
            "image/png": "[encoded data removed]",
            "text/plain": [
              "<Figure size 432x288 with 1 Axes>"
            ]
          },
          "metadata": {
            "tags": [],
            "needs_background": "light"
          }
        },
        {
          "output_type": "stream",
          "text": [
            "For values of best alpha =  21 The train log loss is: 1.9114891033416108\n",
            "For values of best alpha =  21 The cross validation log loss is: 2.4083408293321713\n",
            "For values of best alpha =  21 The test log loss is: 2.4303295928440987\n"
          ],
          "name": "stdout"
        }
      ]
    },
    {
      "cell_type": "markdown",
      "metadata": {
        "id": "YCofywvSdbwG"
      },
      "source": [
        "##### Testing with best hyperparameter"
      ]
    },
    {
      "cell_type": "code",
      "metadata": {
        "colab": {
          "base_uri": "https://localhost:8080/"
        },
        "id": "i4ZeDCCGdgNe",
        "outputId": "5258beb2-3e77-4373-8011-9488eaa2a576"
      },
      "source": [
        "clf = KNeighborsClassifier(n_neighbors=alpha[best_alpha])\n",
        "clf.fit(train_text_feature_onehotCoding, train_y)\n",
        "sig_clf = CalibratedClassifierCV(clf, method=\"sigmoid\")\n",
        "sig_clf.fit(train_text_feature_onehotCoding, train_y)\n",
        "sig_clf_probs = sig_clf.predict_proba(cv_text_feature_onehotCoding)\n",
        "# to avoid rounding error while multiplying probabilites we use log-probability estimates\n",
        "print(\"Log Loss :\",log_loss(cv_y, sig_clf_probs))\n",
        "print(\"Number of missclassified point :\", np.count_nonzero((sig_clf.predict(cv_text_feature_onehotCoding)- cv_y))/cv_y.shape[0])\n",
        "#plot_confusion_matrix(cv_y, sig_clf.predict(cv_text_feature_onehotCoding.toarray()))"
      ],
      "execution_count": null,
      "outputs": [
        {
          "output_type": "stream",
          "text": [
            "Log Loss : 2.4083408293321713\n",
            "Number of missclassified point : 0.5846422338568935\n"
          ],
          "name": "stdout"
        }
      ]
    },
    {
      "cell_type": "markdown",
      "metadata": {
        "id": "fBv1rduEerGe"
      },
      "source": [
        "##### Sample query point 1"
      ]
    },
    {
      "cell_type": "code",
      "metadata": {
        "colab": {
          "base_uri": "https://localhost:8080/"
        },
        "id": "0EKYDf3Leqm_",
        "outputId": "fd3baec9-4fc4-4ba3-c6ca-db4eea077967"
      },
      "source": [
        "clf = KNeighborsClassifier(n_neighbors=alpha[best_alpha])\n",
        "clf.fit(train_text_feature_onehotCoding, train_y)\n",
        "sig_clf = CalibratedClassifierCV(clf, method=\"sigmoid\")\n",
        "sig_clf.fit(train_text_feature_onehotCoding, train_y)\n",
        "\n",
        "test_point_index = 1\n",
        "predicted_cls = sig_clf.predict(test_text_feature_onehotCoding[0].reshape(1,-1))\n",
        "print(\"Predicted Class :\", predicted_cls[0])\n",
        "print(\"Actual Class :\", test_y[test_point_index])\n",
        "neighbors = clf.kneighbors(test_text_feature_onehotCoding[test_point_index].reshape(1, -1), alpha[best_alpha])\n",
        "print(\"The \",alpha[best_alpha],\" nearest neighbours of the test points belongs to classes\",train_y[neighbors[1][0]])\n",
        "print(\"Fequency of nearest points :\",Counter(train_y[neighbors[1][0]]))"
      ],
      "execution_count": null,
      "outputs": [
        {
          "output_type": "stream",
          "text": [
            "Predicted Class : 46\n",
            "Actual Class : 11\n",
            "The  21  nearest neighbours of the test points belongs to classes [11 31 45 24 10 37 48 37 37 26 43 10 20 23 16 22 21 45 22  3 23]\n",
            "Fequency of nearest points : Counter({37: 3, 45: 2, 10: 2, 23: 2, 22: 2, 11: 1, 31: 1, 24: 1, 48: 1, 26: 1, 43: 1, 20: 1, 16: 1, 21: 1, 3: 1})\n"
          ],
          "name": "stdout"
        }
      ]
    },
    {
      "cell_type": "markdown",
      "metadata": {
        "id": "MVPW2uusfXYi"
      },
      "source": [
        "##### Sample Query Point 2"
      ]
    },
    {
      "cell_type": "code",
      "metadata": {
        "colab": {
          "base_uri": "https://localhost:8080/"
        },
        "id": "JJ3IbADNfcEF",
        "outputId": "54ec866f-74db-4723-d81e-244a51494138"
      },
      "source": [
        "clf = KNeighborsClassifier(n_neighbors=alpha[best_alpha])\n",
        "clf.fit(train_text_feature_onehotCoding, train_y)\n",
        "sig_clf = CalibratedClassifierCV(clf, method=\"sigmoid\")\n",
        "sig_clf.fit(train_text_feature_onehotCoding, train_y)\n",
        "\n",
        "test_point_index = 100\n",
        "predicted_cls = sig_clf.predict(test_text_feature_onehotCoding[0].reshape(1,-1))\n",
        "print(\"Predicted Class :\", predicted_cls[0])\n",
        "print(\"Actual Class :\", test_y[test_point_index])\n",
        "neighbors = clf.kneighbors(test_text_feature_onehotCoding[test_point_index].reshape(1, -1), alpha[best_alpha])\n",
        "print(\"The \",alpha[best_alpha],\" nearest neighbours of the test points belongs to classes\",train_y[neighbors[1][0]])\n",
        "print(\"Fequency of nearest points :\",Counter(train_y[neighbors[1][0]]))"
      ],
      "execution_count": null,
      "outputs": [
        {
          "output_type": "stream",
          "text": [
            "Predicted Class : 46\n",
            "Actual Class : 32\n",
            "The  21  nearest neighbours of the test points belongs to classes [26  4 34  5  6 22 33 43 23 20  3 11 37 26 48 37 37 43 48 11 46]\n",
            "Fequency of nearest points : Counter({37: 3, 26: 2, 43: 2, 11: 2, 48: 2, 4: 1, 34: 1, 5: 1, 6: 1, 22: 1, 33: 1, 23: 1, 20: 1, 3: 1, 46: 1})\n"
          ],
          "name": "stdout"
        }
      ]
    },
    {
      "cell_type": "markdown",
      "metadata": {
        "id": "LH9bg6MtnjXg"
      },
      "source": [
        "### Logistic regression"
      ]
    },
    {
      "cell_type": "markdown",
      "metadata": {
        "id": "1YB5r0E6nnnA"
      },
      "source": [
        "With Class balancing"
      ]
    },
    {
      "cell_type": "code",
      "metadata": {
        "colab": {
          "base_uri": "https://localhost:8080/",
          "height": 648
        },
        "id": "FkHfMPGSnq_R",
        "outputId": "5e5901eb-4895-477c-ab64-1a520837440f"
      },
      "source": [
        "alpha = [10 ** x for x in range(-6, 3)]\n",
        "cv_log_error_array = []\n",
        "for i in alpha:\n",
        "    print(\"for alpha =\", i)\n",
        "    clf = SGDClassifier(class_weight='balanced', alpha=i, penalty='l2', loss='log', random_state=42)\n",
        "    clf.fit(train_text_feature_onehotCoding, train_y)\n",
        "    sig_clf = CalibratedClassifierCV(clf, method=\"sigmoid\")\n",
        "    sig_clf.fit(train_text_feature_onehotCoding, train_y)\n",
        "    sig_clf_probs = sig_clf.predict_proba(cv_text_feature_onehotCoding)\n",
        "    cv_log_error_array.append(log_loss(cv_y, sig_clf_probs, labels=clf.classes_, eps=1e-15))\n",
        "    # to avoid rounding error while multiplying probabilites we use log-probability estimates\n",
        "    print(\"Log Loss :\",log_loss(cv_y, sig_clf_probs)) \n",
        "\n",
        "fig, ax = plt.subplots()\n",
        "ax.plot(alpha, cv_log_error_array,c='g')\n",
        "for i, txt in enumerate(np.round(cv_log_error_array,3)):\n",
        "    ax.annotate((alpha[i],str(txt)), (alpha[i],cv_log_error_array[i]))\n",
        "plt.grid()\n",
        "plt.title(\"Cross Validation Error for each alpha\")\n",
        "plt.xlabel(\"Alpha i's\")\n",
        "plt.ylabel(\"Error measure\")\n",
        "plt.show()\n",
        "\n",
        "\n",
        "best_alpha = np.argmin(cv_log_error_array)\n",
        "clf = SGDClassifier(class_weight='balanced', alpha=alpha[best_alpha], penalty='l2', loss='log', random_state=42)\n",
        "clf.fit(train_text_feature_onehotCoding, train_y)\n",
        "sig_clf = CalibratedClassifierCV(clf, method=\"sigmoid\")\n",
        "sig_clf.fit(train_text_feature_onehotCoding, train_y)\n",
        "\n",
        "predict_y = sig_clf.predict_proba(train_text_feature_onehotCoding)\n",
        "print('For values of best alpha = ', alpha[best_alpha], \"The train log loss is:\",log_loss(y_train, predict_y, labels=clf.classes_, eps=1e-15))\n",
        "predict_y = sig_clf.predict_proba(cv_text_feature_onehotCoding)\n",
        "print('For values of best alpha = ', alpha[best_alpha], \"The cross validation log loss is:\",log_loss(y_cv, predict_y, labels=clf.classes_, eps=1e-15))\n",
        "predict_y = sig_clf.predict_proba(test_text_feature_onehotCoding)\n",
        "print('For values of best alpha = ', alpha[best_alpha], \"The test log loss is:\",log_loss(y_test, predict_y, labels=clf.classes_, eps=1e-15))"
      ],
      "execution_count": null,
      "outputs": [
        {
          "output_type": "stream",
          "text": [
            "for alpha = 1e-06\n",
            "Log Loss : 2.038700720717991\n",
            "for alpha = 1e-05\n",
            "Log Loss : 1.8623144419438238\n",
            "for alpha = 0.0001\n",
            "Log Loss : 1.8626511554688903\n",
            "for alpha = 0.001\n",
            "Log Loss : 2.0653590016790124\n",
            "for alpha = 0.01\n",
            "Log Loss : 2.977406139474349\n",
            "for alpha = 0.1\n",
            "Log Loss : 3.3050463143216726\n",
            "for alpha = 1\n",
            "Log Loss : 3.3294033005102093\n",
            "for alpha = 10\n",
            "Log Loss : 3.331853623740969\n",
            "for alpha = 100\n",
            "Log Loss : 3.3316679077580673\n"
          ],
          "name": "stdout"
        },
        {
          "output_type": "display_data",
          "data": {
            "image/png": "[encoded data removed]",
            "text/plain": [
              "<Figure size 432x288 with 1 Axes>"
            ]
          },
          "metadata": {
            "tags": [],
            "needs_background": "light"
          }
        },
        {
          "output_type": "stream",
          "text": [
            "For values of best alpha =  1e-05 The train log loss is: 0.7860085636453252\n",
            "For values of best alpha =  1e-05 The cross validation log loss is: 1.8623144419438238\n",
            "For values of best alpha =  1e-05 The test log loss is: 1.8738866644671839\n"
          ],
          "name": "stdout"
        }
      ]
    },
    {
      "cell_type": "code",
      "metadata": {
        "colab": {
          "base_uri": "https://localhost:8080/"
        },
        "id": "OeqKgFbAovmx",
        "outputId": "7c3b80e1-04eb-4a5e-b661-2f3acdd0d865"
      },
      "source": [
        "clf = SGDClassifier(class_weight='balanced', alpha=alpha[best_alpha], penalty='l2', loss='log', random_state=42)\n",
        "clf.fit(train_text_feature_onehotCoding, train_y)\n",
        "sig_clf = CalibratedClassifierCV(clf, method=\"sigmoid\")\n",
        "sig_clf.fit(train_text_feature_onehotCoding, train_y)\n",
        "sig_clf_probs = sig_clf.predict_proba(cv_text_feature_onehotCoding)\n",
        "# to avoid rounding error while multiplying probabilites we use log-probability estimates\n",
        "print(\"Log Loss :\",log_loss(cv_y, sig_clf_probs))\n",
        "print(\"Number of missclassified point :\", np.count_nonzero((sig_clf.predict(cv_text_feature_onehotCoding)- cv_y))/cv_y.shape[0])\n",
        "#plot_confusion_matrix(cv_y, sig_clf.predict(cv_text_feature_onehotCoding.toarray()))"
      ],
      "execution_count": null,
      "outputs": [
        {
          "output_type": "stream",
          "text": [
            "Log Loss : 1.8623144419438238\n",
            "Number of missclassified point : 0.44153577661431065\n"
          ],
          "name": "stdout"
        }
      ]
    },
    {
      "cell_type": "markdown",
      "metadata": {
        "id": "DJhyI87ipYdf"
      },
      "source": [
        "#### Without class balancing "
      ]
    },
    {
      "cell_type": "code",
      "metadata": {
        "colab": {
          "base_uri": "https://localhost:8080/",
          "height": 581
        },
        "id": "tkPuzAH2pcFC",
        "outputId": "5548c0ed-f97e-41cf-9626-f5fc817342dd"
      },
      "source": [
        "alpha = [10 ** x for x in range(-6, 1)]\n",
        "cv_log_error_array = []\n",
        "for i in alpha:\n",
        "    print(\"for alpha =\", i)\n",
        "    clf = SGDClassifier(alpha=i, penalty='l2', loss='log', random_state=42)\n",
        "    clf.fit(train_text_feature_onehotCoding, train_y)\n",
        "    sig_clf = CalibratedClassifierCV(clf, method=\"sigmoid\")\n",
        "    sig_clf.fit(train_text_feature_onehotCoding, train_y)\n",
        "    sig_clf_probs = sig_clf.predict_proba(cv_text_feature_onehotCoding)\n",
        "    cv_log_error_array.append(log_loss(cv_y, sig_clf_probs, labels=clf.classes_, eps=1e-15))\n",
        "    print(\"Log Loss :\",log_loss(cv_y, sig_clf_probs)) \n",
        "\n",
        "fig, ax = plt.subplots()\n",
        "ax.plot(alpha, cv_log_error_array,c='g')\n",
        "for i, txt in enumerate(np.round(cv_log_error_array,3)):\n",
        "    ax.annotate((alpha[i],str(txt)), (alpha[i],cv_log_error_array[i]))\n",
        "plt.grid()\n",
        "plt.title(\"Cross Validation Error for each alpha\")\n",
        "plt.xlabel(\"Alpha i's\")\n",
        "plt.ylabel(\"Error measure\")\n",
        "plt.show()\n",
        "\n",
        "\n",
        "best_alpha = np.argmin(cv_log_error_array)\n",
        "clf = SGDClassifier(alpha=alpha[best_alpha], penalty='l2', loss='log', random_state=42)\n",
        "clf.fit(train_text_feature_onehotCoding, train_y)\n",
        "sig_clf = CalibratedClassifierCV(clf, method=\"sigmoid\")\n",
        "sig_clf.fit(train_text_feature_onehotCoding, train_y)\n",
        "\n",
        "predict_y = sig_clf.predict_proba(train_text_feature_onehotCoding)\n",
        "print('For values of best alpha = ', alpha[best_alpha], \"The train log loss is:\",log_loss(y_train, predict_y, labels=clf.classes_, eps=1e-15))\n",
        "predict_y = sig_clf.predict_proba(cv_text_feature_onehotCoding)\n",
        "print('For values of best alpha = ', alpha[best_alpha], \"The cross validation log loss is:\",log_loss(y_cv, predict_y, labels=clf.classes_, eps=1e-15))\n",
        "predict_y = sig_clf.predict_proba(test_text_feature_onehotCoding)\n",
        "print('For values of best alpha = ', alpha[best_alpha], \"The test log loss is:\",log_loss(y_test, predict_y, labels=clf.classes_, eps=1e-15))"
      ],
      "execution_count": null,
      "outputs": [
        {
          "output_type": "stream",
          "text": [
            "for alpha = 1e-06\n",
            "Log Loss : 2.0656851882999328\n",
            "for alpha = 1e-05\n",
            "Log Loss : 1.8911246466309513\n",
            "for alpha = 0.0001\n",
            "Log Loss : 1.8448996159804467\n",
            "for alpha = 0.001\n",
            "Log Loss : 2.0180084774962643\n",
            "for alpha = 0.01\n",
            "Log Loss : 2.8170591472010624\n",
            "for alpha = 0.1\n",
            "Log Loss : 3.2021444914938053\n",
            "for alpha = 1\n",
            "Log Loss : 3.2470691050339657\n"
          ],
          "name": "stdout"
        },
        {
          "output_type": "display_data",
          "data": {
            "image/png": "[encoded data removed]",
            "text/plain": [
              "<Figure size 432x288 with 1 Axes>"
            ]
          },
          "metadata": {
            "tags": [],
            "needs_background": "light"
          }
        },
        {
          "output_type": "stream",
          "text": [
            "For values of best alpha =  0.0001 The train log loss is: 0.9062188907545695\n",
            "For values of best alpha =  0.0001 The cross validation log loss is: 1.8448996159804467\n",
            "For values of best alpha =  0.0001 The test log loss is: 1.8082882499835307\n"
          ],
          "name": "stdout"
        }
      ]
    },
    {
      "cell_type": "code",
      "metadata": {
        "colab": {
          "base_uri": "https://localhost:8080/"
        },
        "id": "65Tw3Qavp7q6",
        "outputId": "35b84960-c88a-4f6b-8952-5234a6fa7a4a"
      },
      "source": [
        "clf = SGDClassifier(alpha=alpha[best_alpha], penalty='l2', loss='log', random_state=42)\n",
        "clf.fit(train_text_feature_onehotCoding, train_y)\n",
        "sig_clf = CalibratedClassifierCV(clf, method=\"sigmoid\")\n",
        "sig_clf.fit(train_text_feature_onehotCoding, train_y)\n",
        "sig_clf_probs = sig_clf.predict_proba(cv_text_feature_onehotCoding)\n",
        "# to avoid rounding error while multiplying probabilites we use log-probability estimates\n",
        "print(\"Log Loss :\",log_loss(cv_y, sig_clf_probs))\n",
        "print(\"Number of missclassified point :\", np.count_nonzero((sig_clf.predict(cv_text_feature_onehotCoding)- cv_y))/cv_y.shape[0])\n",
        "#plot_confusion_matrix(cv_y, sig_clf.predict(cv_text_feature_onehotCoding.toarray()))"
      ],
      "execution_count": null,
      "outputs": [
        {
          "output_type": "stream",
          "text": [
            "Log Loss : 1.7991278739591052\n",
            "Number of missclassified point : 0.4675090252707581\n"
          ],
          "name": "stdout"
        }
      ]
    },
    {
      "cell_type": "markdown",
      "metadata": {
        "id": "voHZDaoUqgMq"
      },
      "source": [
        "### Linear Support Vector Machines"
      ]
    },
    {
      "cell_type": "markdown",
      "metadata": {
        "id": "N6qBQWOOqlWG"
      },
      "source": [
        "#### Hyper parameter tuning"
      ]
    },
    {
      "cell_type": "code",
      "metadata": {
        "colab": {
          "base_uri": "https://localhost:8080/",
          "height": 613
        },
        "id": "ud3Ta69Xqo7z",
        "outputId": "d848a312-86dc-4e3b-eca2-8783bcdd5fe5"
      },
      "source": [
        "alpha = [10 ** x for x in range(-5, 3)]\n",
        "cv_log_error_array = []\n",
        "for i in alpha:\n",
        "    print(\"for C =\", i)\n",
        "#     clf = SVC(C=i,kernel='linear',probability=True, class_weight='balanced')\n",
        "    clf = SGDClassifier( class_weight='balanced', alpha=i, penalty='l2', loss='hinge', random_state=42)\n",
        "    clf.fit(train_text_feature_onehotCoding, train_y)\n",
        "    sig_clf = CalibratedClassifierCV(clf, method=\"sigmoid\")\n",
        "    sig_clf.fit(train_text_feature_onehotCoding, train_y)\n",
        "    sig_clf_probs = sig_clf.predict_proba(cv_text_feature_onehotCoding)\n",
        "    cv_log_error_array.append(log_loss(cv_y, sig_clf_probs, labels=clf.classes_, eps=1e-15))\n",
        "    print(\"Log Loss :\",log_loss(cv_y, sig_clf_probs)) \n",
        "\n",
        "fig, ax = plt.subplots()\n",
        "ax.plot(alpha, cv_log_error_array,c='g')\n",
        "for i, txt in enumerate(np.round(cv_log_error_array,3)):\n",
        "    ax.annotate((alpha[i],str(txt)), (alpha[i],cv_log_error_array[i]))\n",
        "plt.grid()\n",
        "plt.title(\"Cross Validation Error for each alpha\")\n",
        "plt.xlabel(\"Alpha i's\")\n",
        "plt.ylabel(\"Error measure\")\n",
        "plt.show()\n",
        "\n",
        "\n",
        "best_alpha = np.argmin(cv_log_error_array)\n",
        "# clf = SVC(C=i,kernel='linear',probability=True, class_weight='balanced')\n",
        "clf = SGDClassifier(class_weight='balanced', alpha=alpha[best_alpha], penalty='l2', loss='hinge', random_state=42)\n",
        "clf.fit(train_text_feature_onehotCoding, train_y)\n",
        "sig_clf = CalibratedClassifierCV(clf, method=\"sigmoid\")\n",
        "sig_clf.fit(train_text_feature_onehotCoding, train_y)\n",
        "\n",
        "predict_y = sig_clf.predict_proba(train_text_feature_onehotCoding)\n",
        "print('For values of best alpha = ', alpha[best_alpha], \"The train log loss is:\",log_loss(y_train, predict_y, labels=clf.classes_, eps=1e-15))\n",
        "predict_y = sig_clf.predict_proba(cv_text_feature_onehotCoding)\n",
        "print('For values of best alpha = ', alpha[best_alpha], \"The cross validation log loss is:\",log_loss(y_cv, predict_y, labels=clf.classes_, eps=1e-15))\n",
        "predict_y = sig_clf.predict_proba(test_text_feature_onehotCoding)\n",
        "print('For values of best alpha = ', alpha[best_alpha], \"The test log loss is:\",log_loss(y_test, predict_y, labels=clf.classes_, eps=1e-15))"
      ],
      "execution_count": null,
      "outputs": [
        {
          "output_type": "stream",
          "text": [
            "for C = 1e-05\n",
            "Log Loss : 2.0466430577475276\n",
            "for C = 0.0001\n",
            "Log Loss : 1.940739168635734\n",
            "for C = 0.001\n",
            "Log Loss : 1.9598895940448224\n",
            "for C = 0.01\n",
            "Log Loss : 1.9842368904853998\n",
            "for C = 0.1\n",
            "Log Loss : 3.3309557554597076\n",
            "for C = 1\n",
            "Log Loss : 3.351855941115196\n",
            "for C = 10\n",
            "Log Loss : 3.351858107683003\n",
            "for C = 100\n",
            "Log Loss : 3.352163682784615\n"
          ],
          "name": "stdout"
        },
        {
          "output_type": "display_data",
          "data": {
            "image/png": "[encoded data removed]",
            "text/plain": [
              "<Figure size 432x288 with 1 Axes>"
            ]
          },
          "metadata": {
            "tags": [],
            "needs_background": "light"
          }
        },
        {
          "output_type": "stream",
          "text": [
            "For values of best alpha =  0.0001 The train log loss is: 1.013310931338281\n",
            "For values of best alpha =  0.0001 The cross validation log loss is: 1.940739168635734\n",
            "For values of best alpha =  0.0001 The test log loss is: 2.0573338883587846\n"
          ],
          "name": "stdout"
        }
      ]
    },
    {
      "cell_type": "code",
      "metadata": {
        "colab": {
          "base_uri": "https://localhost:8080/"
        },
        "id": "FOHsvPMfrWPF",
        "outputId": "86d60e37-7852-4616-df65-4d5e7389a55a"
      },
      "source": [
        "clf = SGDClassifier(alpha=alpha[best_alpha], penalty='l2', loss='hinge', random_state=42,class_weight='balanced')\n",
        "clf.fit(train_text_feature_onehotCoding, train_y)\n",
        "sig_clf = CalibratedClassifierCV(clf, method=\"sigmoid\")\n",
        "sig_clf.fit(train_text_feature_onehotCoding, train_y)\n",
        "sig_clf_probs = sig_clf.predict_proba(cv_text_feature_onehotCoding)\n",
        "# to avoid rounding error while multiplying probabilites we use log-probability estimates\n",
        "print(\"Log Loss :\",log_loss(cv_y, sig_clf_probs))\n",
        "print(\"Number of missclassified point :\", np.count_nonzero((sig_clf.predict(cv_text_feature_onehotCoding)- cv_y))/cv_y.shape[0])\n",
        "#plot_confusion_matrix(cv_y, sig_clf.predict(cv_text_feature_onehotCoding.toarray()))"
      ],
      "execution_count": null,
      "outputs": [
        {
          "output_type": "stream",
          "text": [
            "Log Loss : 1.940739168635734\n",
            "Number of missclassified point : 0.4566787003610108\n"
          ],
          "name": "stdout"
        }
      ]
    },
    {
      "cell_type": "markdown",
      "metadata": {
        "id": "ygYoadvkru-G"
      },
      "source": [
        "### Random Forest"
      ]
    },
    {
      "cell_type": "markdown",
      "metadata": {
        "id": "S6yCmI8irxo5"
      },
      "source": [
        "#### Hyper parameter tuning"
      ]
    },
    {
      "cell_type": "code",
      "metadata": {
        "colab": {
          "base_uri": "https://localhost:8080/"
        },
        "id": "xsKGuD8ur4n8",
        "outputId": "565a5d9e-95ba-43a8-d9a2-d5bfb302abf3"
      },
      "source": [
        "alpha = [100,200,500,1000,2000]\n",
        "max_depth = [5, 10]\n",
        "cv_log_error_array = []\n",
        "for i in alpha:\n",
        "    for j in max_depth:\n",
        "        print(\"for n_estimators =\", i,\"and max depth = \", j)\n",
        "        clf = RandomForestClassifier(n_estimators=i, criterion='gini', max_depth=j, random_state=42, n_jobs=-1)\n",
        "        clf.fit(train_text_feature_onehotCoding, train_y)\n",
        "        sig_clf = CalibratedClassifierCV(clf, method=\"sigmoid\")\n",
        "        sig_clf.fit(train_text_feature_onehotCoding, train_y)\n",
        "        sig_clf_probs = sig_clf.predict_proba(cv_text_feature_onehotCoding)\n",
        "        cv_log_error_array.append(log_loss(cv_y, sig_clf_probs, labels=clf.classes_, eps=1e-15))\n",
        "        print(\"Log Loss :\",log_loss(cv_y, sig_clf_probs)) \n",
        "\n",
        "'''fig, ax = plt.subplots()\n",
        "features = np.dot(np.array(alpha)[:,None],np.array(max_depth)[None]).ravel()\n",
        "ax.plot(features, cv_log_error_array,c='g')\n",
        "for i, txt in enumerate(np.round(cv_log_error_array,3)):\n",
        "    ax.annotate((alpha[int(i/2)],max_depth[int(i%2)],str(txt)), (features[i],cv_log_error_array[i]))\n",
        "plt.grid()\n",
        "plt.title(\"Cross Validation Error for each alpha\")\n",
        "plt.xlabel(\"Alpha i's\")\n",
        "plt.ylabel(\"Error measure\")\n",
        "plt.show()\n",
        "'''\n",
        "\n",
        "best_alpha = np.argmin(cv_log_error_array)\n",
        "clf = RandomForestClassifier(n_estimators=alpha[int(best_alpha/2)], criterion='gini', max_depth=max_depth[int(best_alpha%2)], random_state=42, n_jobs=-1)\n",
        "clf.fit(train_text_feature_onehotCoding, train_y)\n",
        "sig_clf = CalibratedClassifierCV(clf, method=\"sigmoid\")\n",
        "sig_clf.fit(train_text_feature_onehotCoding, train_y)\n",
        "\n",
        "predict_y = sig_clf.predict_proba(train_text_feature_onehotCoding)\n",
        "print('For values of best estimator = ', alpha[int(best_alpha/2)], \"The train log loss is:\",log_loss(y_train, predict_y, labels=clf.classes_, eps=1e-15))\n",
        "predict_y = sig_clf.predict_proba(cv_text_feature_onehotCoding)\n",
        "print('For values of best estimator = ', alpha[int(best_alpha/2)], \"The cross validation log loss is:\",log_loss(y_cv, predict_y, labels=clf.classes_, eps=1e-15))\n",
        "predict_y = sig_clf.predict_proba(test_text_feature_onehotCoding)\n",
        "print('For values of best estimator = ', alpha[int(best_alpha/2)], \"The test log loss is:\",log_loss(y_test, predict_y, labels=clf.classes_, eps=1e-15))"
      ],
      "execution_count": null,
      "outputs": [
        {
          "output_type": "stream",
          "text": [
            "for n_estimators = 100 and max depth =  5\n",
            "Log Loss : 2.3199140059483523\n",
            "for n_estimators = 100 and max depth =  10\n",
            "Log Loss : 2.209598642325925\n",
            "for n_estimators = 200 and max depth =  5\n",
            "Log Loss : 2.2584168507270785\n",
            "for n_estimators = 200 and max depth =  10\n",
            "Log Loss : 2.169991177012421\n",
            "for n_estimators = 500 and max depth =  5\n",
            "Log Loss : 2.2334346251259003\n",
            "for n_estimators = 500 and max depth =  10\n",
            "Log Loss : 2.158666906667035\n",
            "for n_estimators = 1000 and max depth =  5\n",
            "Log Loss : 2.231512693271258\n",
            "for n_estimators = 1000 and max depth =  10\n",
            "Log Loss : 2.1512978863999366\n",
            "for n_estimators = 2000 and max depth =  5\n",
            "Log Loss : 2.232614163108823\n",
            "for n_estimators = 2000 and max depth =  10\n",
            "Log Loss : 2.150516943463733\n",
            "For values of best estimator =  2000 The train log loss is: 1.3526626196141147\n",
            "For values of best estimator =  2000 The cross validation log loss is: 2.150516943463733\n",
            "For values of best estimator =  2000 The test log loss is: 2.0658912959993736\n"
          ],
          "name": "stdout"
        }
      ]
    },
    {
      "cell_type": "code",
      "metadata": {
        "colab": {
          "base_uri": "https://localhost:8080/"
        },
        "id": "jkdNe2x_td-V",
        "outputId": "57246dfb-500e-4f44-bc71-e5a845651426"
      },
      "source": [
        "clf = RandomForestClassifier(n_estimators=alpha[int(best_alpha/2)], criterion='gini', max_depth=max_depth[int(best_alpha%2)], random_state=42, n_jobs=-1)\n",
        "clf.fit(train_text_feature_onehotCoding, train_y)\n",
        "sig_clf = CalibratedClassifierCV(clf, method=\"sigmoid\")\n",
        "sig_clf.fit(train_text_feature_onehotCoding, train_y)\n",
        "sig_clf_probs = sig_clf.predict_proba(cv_text_feature_onehotCoding)\n",
        "# to avoid rounding error while multiplying probabilites we use log-probability estimates\n",
        "print(\"Log Loss :\",log_loss(cv_y, sig_clf_probs))\n",
        "print(\"Number of missclassified point :\", np.count_nonzero((sig_clf.predict(cv_text_feature_onehotCoding)- cv_y))/cv_y.shape[0])\n",
        "#plot_confusion_matrix(cv_y, sig_clf.predict(cv_text_feature_onehotCoding.toarray()))"
      ],
      "execution_count": null,
      "outputs": [
        {
          "output_type": "stream",
          "text": [
            "Log Loss : 2.150516943463733\n",
            "Number of missclassified point : 0.5270758122743683\n"
          ],
          "name": "stdout"
        }
      ]
    },
    {
      "cell_type": "markdown",
      "metadata": {
        "id": "8Ni4hwGcuIZS"
      },
      "source": [
        "### Stacking the models"
      ]
    },
    {
      "cell_type": "code",
      "metadata": {
        "colab": {
          "base_uri": "https://localhost:8080/"
        },
        "id": "9oHAidfpuZz-",
        "outputId": "0f5f250b-9e23-407a-f855-87023334f568"
      },
      "source": [
        "clf1 = SGDClassifier(alpha=0.00001, penalty='l2', loss='log', class_weight='balanced', random_state=0)\n",
        "clf1.fit(train_text_feature_onehotCoding, train_y)\n",
        "sig_clf1 = CalibratedClassifierCV(clf1, method=\"sigmoid\")\n",
        "\n",
        "clf2 = SGDClassifier(alpha=0.0001, penalty='l2', loss='hinge', class_weight='balanced', random_state=0)\n",
        "clf2.fit(train_text_feature_onehotCoding, train_y)\n",
        "sig_clf2 = CalibratedClassifierCV(clf2, method=\"sigmoid\")\n",
        "\n",
        "\n",
        "clf3 = MultinomialNB(alpha=0.1)\n",
        "clf3.fit(train_text_feature_onehotCoding, train_y)\n",
        "sig_clf3 = CalibratedClassifierCV(clf3, method=\"sigmoid\")\n",
        "\n",
        "sig_clf1.fit(train_text_feature_onehotCoding, train_y)\n",
        "print(\"Logistic Regression :  Log Loss: %0.2f\" % (log_loss(cv_y, sig_clf1.predict_proba(cv_text_feature_onehotCoding))))\n",
        "sig_clf2.fit(train_text_feature_onehotCoding, train_y)\n",
        "print(\"Support vector machines : Log Loss: %0.2f\" % (log_loss(cv_y, sig_clf2.predict_proba(cv_text_feature_onehotCoding))))\n",
        "sig_clf3.fit(train_text_feature_onehotCoding, train_y)\n",
        "print(\"Naive Bayes : Log Loss: %0.2f\" % (log_loss(cv_y, sig_clf3.predict_proba(cv_text_feature_onehotCoding))))\n",
        "print(\"-\"*50)\n",
        "alpha = [0.0001,0.001,0.01,0.1,1,10] \n",
        "best_alpha = 999\n",
        "for i in alpha:\n",
        "    lr = LogisticRegression(C=i)\n",
        "    sclf = StackingClassifier(classifiers=[sig_clf1, sig_clf2, sig_clf3], meta_classifier=lr, use_probas=True)\n",
        "    sclf.fit(train_text_feature_onehotCoding, train_y)\n",
        "    print(\"Stacking Classifer : for the value of alpha: %f Log Loss: %0.3f\" % (i, log_loss(cv_y, sclf.predict_proba(cv_text_feature_onehotCoding))))\n",
        "    log_error =log_loss(cv_y, sclf.predict_proba(cv_text_feature_onehotCoding))\n",
        "    if best_alpha > log_error:\n",
        "        best_alpha = log_error"
      ],
      "execution_count": null,
      "outputs": [
        {
          "output_type": "stream",
          "text": [
            "Logistic Regression :  Log Loss: 1.86\n",
            "Support vector machines : Log Loss: 1.94\n",
            "Naive Bayes : Log Loss: 2.12\n",
            "--------------------------------------------------\n",
            "Stacking Classifer : for the value of alpha: 0.000100 Log Loss: 3.481\n",
            "Stacking Classifer : for the value of alpha: 0.001000 Log Loss: 3.449\n",
            "Stacking Classifer : for the value of alpha: 0.010000 Log Loss: 3.172\n",
            "Stacking Classifer : for the value of alpha: 0.100000 Log Loss: 2.352\n",
            "Stacking Classifer : for the value of alpha: 1.000000 Log Loss: 1.991\n",
            "Stacking Classifer : for the value of alpha: 10.000000 Log Loss: 2.275\n"
          ],
          "name": "stdout"
        }
      ]
    },
    {
      "cell_type": "code",
      "metadata": {
        "colab": {
          "base_uri": "https://localhost:8080/"
        },
        "id": "H_d43vToxNfp",
        "outputId": "54713cc1-f373-43a9-fb02-d59d466adbe2"
      },
      "source": [
        "lr = LogisticRegression(C=0.1)\n",
        "sclf = StackingClassifier(classifiers=[sig_clf1, sig_clf2, sig_clf3], meta_classifier=lr, use_probas=True)\n",
        "sclf.fit(train_text_feature_onehotCoding, train_y)\n",
        "\n",
        "log_error = log_loss(train_y, sclf.predict_proba(train_text_feature_onehotCoding))\n",
        "print(\"Log loss (train) on the stacking classifier :\",log_error)\n",
        "\n",
        "log_error = log_loss(cv_y, sclf.predict_proba(cv_text_feature_onehotCoding))\n",
        "print(\"Log loss (CV) on the stacking classifier :\",log_error)\n",
        "\n",
        "log_error = log_loss(test_y, sclf.predict_proba(test_text_feature_onehotCoding))\n",
        "print(\"Log loss (test) on the stacking classifier :\",log_error)\n",
        "\n",
        "print(\"Number of missclassified point :\", np.count_nonzero((sclf.predict(test_text_feature_onehotCoding)- test_y))/test_y.shape[0])\n",
        "#plot_confusion_matrix(test_y=test_y, predict_y=sclf.predict(test_x_onehotCoding))"
      ],
      "execution_count": null,
      "outputs": [
        {
          "output_type": "stream",
          "text": [
            "Log loss (train) on the stacking classifier : 1.2826024609679336\n",
            "Log loss (CV) on the stacking classifier : 1.733438695211817\n",
            "Log loss (test) on the stacking classifier : 1.7448249822514572\n",
            "Number of missclassified point : 0.35611510791366907\n"
          ],
          "name": "stdout"
        }
      ]
    },
    {
      "cell_type": "code",
      "metadata": {
        "colab": {
          "base_uri": "https://localhost:8080/"
        },
        "id": "Yjk6zJCAx3sT",
        "outputId": "cbda6d48-c14d-42f4-fbb3-d83042461014"
      },
      "source": [
        "#Refer:http://scikit-learn.org/stable/modules/generated/sklearn.ensemble.VotingClassifier.html\n",
        "from sklearn.ensemble import VotingClassifier\n",
        "vclf = VotingClassifier(estimators=[('lr', sig_clf1), ('svc', sig_clf2), ('rf', sig_clf3)], voting='soft')\n",
        "vclf.fit(train_text_feature_onehotCoding, train_y)\n",
        "print(\"Log loss (train) on the VotingClassifier :\", log_loss(train_y, vclf.predict_proba(train_text_feature_onehotCoding)))\n",
        "print(\"Log loss (CV) on the VotingClassifier :\", log_loss(cv_y, vclf.predict_proba(cv_text_feature_onehotCoding)))\n",
        "print(\"Log loss (test) on the VotingClassifier :\", log_loss(test_y, vclf.predict_proba(test_text_feature_onehotCoding)))\n",
        "print(\"Number of missclassified point :\", np.count_nonzero((vclf.predict(test_text_feature_onehotCoding)- test_y))/test_y.shape[0])\n",
        "#plot_confusion_matrix(test_y=test_y, predict_y=vclf.predict(test_text_feature_onehotCoding))"
      ],
      "execution_count": null,
      "outputs": [
        {
          "output_type": "stream",
          "text": [
            "Log loss (train) on the VotingClassifier : 1.0230551034096496\n",
            "Log loss (CV) on the VotingClassifier : 1.49549255304332\n",
            "Log loss (test) on the VotingClassifier : 1.5732022157869492\n",
            "Number of missclassified point : 0.3537170263788969\n"
          ],
          "name": "stdout"
        }
      ]
    }
  ]
}